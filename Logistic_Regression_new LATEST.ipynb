{
  "nbformat": 4,
  "nbformat_minor": 0,
  "metadata": {
    "colab": {
      "name": "Logistic Regression new.ipynb",
      "provenance": [],
      "collapsed_sections": []
    },
    "kernelspec": {
      "name": "python3",
      "display_name": "Python 3"
    },
    "language_info": {
      "name": "python"
    }
  },
  "cells": [
    {
      "cell_type": "code",
      "metadata": {
        "id": "AAxBsT9E3XtL"
      },
      "source": [
        "import numpy as np\n",
        "from numpy import genfromtxt\n",
        "import matplotlib.pyplot as plt  # To visualize\n",
        "import pandas as pd  # To read data"
      ],
      "execution_count": 1,
      "outputs": []
    },
    {
      "cell_type": "code",
      "metadata": {
        "id": "gOuPY-tV3b40"
      },
      "source": [
        "data=pd.read_csv('/content/sample_data/mnist_train_small.csv')"
      ],
      "execution_count": 2,
      "outputs": []
    },
    {
      "cell_type": "code",
      "metadata": {
        "colab": {
          "base_uri": "https://localhost:8080/"
        },
        "id": "Foc2vD0H3dFR",
        "outputId": "8ec4104a-9c6e-4995-88b5-c51da954dc13"
      },
      "source": [
        "print(data)"
      ],
      "execution_count": 3,
      "outputs": [
        {
          "output_type": "stream",
          "text": [
            "       6  0  0.1  0.2  0.3  0.4  ...  0.585  0.586  0.587  0.588  0.589  0.590\n",
            "0      5  0    0    0    0    0  ...      0      0      0      0      0      0\n",
            "1      7  0    0    0    0    0  ...      0      0      0      0      0      0\n",
            "2      9  0    0    0    0    0  ...      0      0      0      0      0      0\n",
            "3      5  0    0    0    0    0  ...      0      0      0      0      0      0\n",
            "4      2  0    0    0    0    0  ...      0      0      0      0      0      0\n",
            "...   .. ..  ...  ...  ...  ...  ...    ...    ...    ...    ...    ...    ...\n",
            "19994  0  0    0    0    0    0  ...      0      0      0      0      0      0\n",
            "19995  1  0    0    0    0    0  ...      0      0      0      0      0      0\n",
            "19996  2  0    0    0    0    0  ...      0      0      0      0      0      0\n",
            "19997  9  0    0    0    0    0  ...      0      0      0      0      0      0\n",
            "19998  5  0    0    0    0    0  ...      0      0      0      0      0      0\n",
            "\n",
            "[19999 rows x 785 columns]\n"
          ],
          "name": "stdout"
        }
      ]
    },
    {
      "cell_type": "code",
      "metadata": {
        "id": "PqWKBy5v3gJ4"
      },
      "source": [
        "y=data.iloc[:,:1].values"
      ],
      "execution_count": 4,
      "outputs": []
    },
    {
      "cell_type": "code",
      "metadata": {
        "id": "NxfkoUZn3i26"
      },
      "source": [
        "X=data.iloc[:,1:].values"
      ],
      "execution_count": 5,
      "outputs": []
    },
    {
      "cell_type": "code",
      "metadata": {
        "id": "s2-hYJ4D3nZp"
      },
      "source": [
        "m=X.shape[0] #rows\n",
        "n=X.shape[1] #columns"
      ],
      "execution_count": 6,
      "outputs": []
    },
    {
      "cell_type": "code",
      "metadata": {
        "id": "L2JY2EB6qNKe"
      },
      "source": [
        "X_max, X_min = X.max(), X.min()\n",
        "X = (X - X_min)/(X_max - X_min)"
      ],
      "execution_count": 7,
      "outputs": []
    },
    {
      "cell_type": "code",
      "metadata": {
        "id": "p89Fz-8z3oTS"
      },
      "source": [
        "ones=np.ones((m,1))"
      ],
      "execution_count": 8,
      "outputs": []
    },
    {
      "cell_type": "code",
      "metadata": {
        "id": "ZLEPrHer3wuZ"
      },
      "source": [
        "X=np.concatenate((ones,X),axis=1)"
      ],
      "execution_count": 9,
      "outputs": []
    },
    {
      "cell_type": "code",
      "metadata": {
        "id": "OyF_X3IZWQ7S"
      },
      "source": [
        "from sklearn.model_selection import train_test_split"
      ],
      "execution_count": 10,
      "outputs": []
    },
    {
      "cell_type": "code",
      "metadata": {
        "id": "5zf_RLglWVuU"
      },
      "source": [
        "X_train, X_test, y_train, y_test = train_test_split(X, y, test_size=0.2)"
      ],
      "execution_count": 11,
      "outputs": []
    },
    {
      "cell_type": "code",
      "metadata": {
        "id": "Zif0S2JC3xxV"
      },
      "source": [
        "def costfn_and_grad_descent(X,y,alpha,max_iter):  #alpha is learning rate\n",
        "   cost=np.random.randn(max_iter)\n",
        "   Theta=np.zeros(n+1) #initial weight vector, (somehow taking random array is giving runtime error)\n",
        "   h=np.dot(X_train, Theta) #hypothesis\n",
        "   sgm= 1/(1+np.exp(-h)) #sigmoid function\n",
        "   for i in range(0,max_iter):\n",
        "      for j in range(0,n):\n",
        "        Theta[j]=Theta[j]-(alpha/X_train.shape[0])*(np.dot(sum(sgm-y_train),X_train[:,j]))\n",
        "      h=np.dot(X_train,Theta)\n",
        "      t=np.dot(X_test,Theta)\n",
        "      sgm_test=1/(1+np.exp(-t))\n",
        "      cost[i]= -(1/X_test.shape[0])*(np.sum((y_test*(np.log(sgm_test)))+(1-y_test)*(np.log(1-sgm_test))))\n",
        "   return cost, Theta"
      ],
      "execution_count": 12,
      "outputs": []
    },
    {
      "cell_type": "code",
      "metadata": {
        "id": "Zq1VSxoX-6Rj"
      },
      "source": [
        "cost, Theta=costfn_and_grad_descent(X,y,0.00000000000000001,50)"
      ],
      "execution_count": 13,
      "outputs": []
    },
    {
      "cell_type": "code",
      "metadata": {
        "colab": {
          "base_uri": "https://localhost:8080/"
        },
        "id": "cm6Kkw8kvGll",
        "outputId": "8a437979-fa0d-4674-823b-6fb6674cb5b6"
      },
      "source": [
        "print(cost)"
      ],
      "execution_count": 14,
      "outputs": [
        {
          "output_type": "stream",
          "text": [
            "[2772.58872187 2772.58872149 2772.58872112 2772.58872074 2772.58872037\n",
            " 2772.58871999 2772.58871962 2772.58871925 2772.58871887 2772.5887185\n",
            " 2772.58871812 2772.58871775 2772.58871738 2772.588717   2772.58871663\n",
            " 2772.58871625 2772.58871588 2772.58871551 2772.58871513 2772.58871476\n",
            " 2772.58871438 2772.58871401 2772.58871363 2772.58871326 2772.58871289\n",
            " 2772.58871251 2772.58871214 2772.58871176 2772.58871139 2772.58871102\n",
            " 2772.58871064 2772.58871027 2772.58870989 2772.58870952 2772.58870914\n",
            " 2772.58870877 2772.5887084  2772.58870802 2772.58870765 2772.58870727\n",
            " 2772.5887069  2772.58870653 2772.58870615 2772.58870578 2772.5887054\n",
            " 2772.58870503 2772.58870465 2772.58870428 2772.58870391 2772.58870353]\n"
          ],
          "name": "stdout"
        }
      ]
    },
    {
      "cell_type": "code",
      "metadata": {
        "colab": {
          "base_uri": "https://localhost:8080/"
        },
        "id": "-hIuJAG6vPXC",
        "outputId": "2245523a-b35f-4e34-cc5b-f627de25c194"
      },
      "source": [
        "print(Theta)"
      ],
      "execution_count": 15,
      "outputs": [
        {
          "output_type": "stream",
          "text": [
            "[3.14867500e-11 0.00000000e+00 0.00000000e+00 0.00000000e+00\n",
            " 0.00000000e+00 0.00000000e+00 0.00000000e+00 0.00000000e+00\n",
            " 0.00000000e+00 0.00000000e+00 0.00000000e+00 0.00000000e+00\n",
            " 0.00000000e+00 7.71782305e-17 1.66704978e-15 1.66704978e-15\n",
            " 6.94604075e-17 0.00000000e+00 0.00000000e+00 0.00000000e+00\n",
            " 0.00000000e+00 0.00000000e+00 0.00000000e+00 0.00000000e+00\n",
            " 0.00000000e+00 0.00000000e+00 0.00000000e+00 0.00000000e+00\n",
            " 0.00000000e+00 0.00000000e+00 0.00000000e+00 0.00000000e+00\n",
            " 0.00000000e+00 0.00000000e+00 0.00000000e+00 1.03418829e-15\n",
            " 3.13343616e-15 8.99898168e-15 9.16105596e-15 1.25800516e-14\n",
            " 2.16407758e-14 2.88800939e-14 2.36088207e-14 2.47356229e-14\n",
            " 2.17796966e-14 1.64775522e-14 2.05139737e-14 2.02284142e-14\n",
            " 9.03757079e-15 4.74646118e-15 4.16762445e-16 0.00000000e+00\n",
            " 0.00000000e+00 0.00000000e+00 0.00000000e+00 0.00000000e+00\n",
            " 0.00000000e+00 0.00000000e+00 0.00000000e+00 0.00000000e+00\n",
            " 2.23816868e-16 7.25475367e-16 9.18420943e-16 6.05077327e-15\n",
            " 1.92559685e-14 3.66133526e-14 6.81406597e-14 1.24187491e-13\n",
            " 1.75256326e-13 2.37770693e-13 3.03835258e-13 3.92003668e-13\n",
            " 4.50713148e-13 4.42763791e-13 4.26919100e-13 3.68580075e-13\n",
            " 2.72485461e-13 1.88886001e-13 1.01095764e-13 4.22550812e-14\n",
            " 1.36142399e-14 5.99674851e-15 1.76738148e-15 0.00000000e+00\n",
            " 0.00000000e+00 0.00000000e+00 0.00000000e+00 0.00000000e+00\n",
            " 6.48297136e-16 3.93608976e-16 5.76521382e-15 2.64566974e-14\n",
            " 7.99489290e-14 1.50049916e-13 2.76259476e-13 4.54934798e-13\n",
            " 6.85759449e-13 8.98771365e-13 1.15886200e-12 1.48500177e-12\n",
            " 1.67015234e-12 1.64202860e-12 1.46822322e-12 1.22701038e-12\n",
            " 9.23043919e-13 5.74746283e-13 2.87496626e-13 1.34760908e-13\n",
            " 5.02816172e-14 1.82758050e-14 3.17974310e-15 0.00000000e+00\n",
            " 0.00000000e+00 0.00000000e+00 2.93277276e-16 2.46970338e-16\n",
            " 3.08712922e-16 8.00338250e-15 5.18251818e-14 1.36559161e-13\n",
            " 3.04012768e-13 5.91532548e-13 1.03874180e-12 1.62673959e-12\n",
            " 2.40951207e-12 3.28228981e-12 4.27571256e-12 5.19388653e-12\n",
            " 5.61128184e-12 5.41308814e-12 4.77243165e-12 3.92925176e-12\n",
            " 2.90859282e-12 1.85931619e-12 1.02740432e-12 5.33857256e-13\n",
            " 2.28918349e-13 7.52642104e-14 1.94720676e-14 8.34296672e-15\n",
            " 4.55351560e-16 0.00000000e+00 0.00000000e+00 1.85227753e-15\n",
            " 7.20072891e-15 5.08681717e-14 1.99498008e-13 4.49185019e-13\n",
            " 8.88668735e-13 1.62758855e-12 2.63592985e-12 3.90632211e-12\n",
            " 5.45202456e-12 7.15420587e-12 9.01865441e-12 1.04151636e-11\n",
            " 1.11516832e-11 1.09242853e-11 9.81924735e-12 8.11376281e-12\n",
            " 6.12227890e-12 4.19569417e-12 2.63518894e-12 1.50920486e-12\n",
            " 7.58476778e-13 3.32175104e-13 9.29071539e-14 1.13220464e-14\n",
            " 0.00000000e+00 0.00000000e+00 0.00000000e+00 2.82472324e-15\n",
            " 2.20035135e-14 1.34475349e-13 4.27899263e-13 9.33092525e-13\n",
            " 1.79987351e-12 3.01918151e-12 4.61625378e-12 6.53678002e-12\n",
            " 8.75115466e-12 1.09612845e-11 1.30651399e-11 1.46093682e-11\n",
            " 1.52924573e-11 1.50018195e-11 1.37863164e-11 1.17967851e-11\n",
            " 9.17952471e-12 6.64357926e-12 4.36393499e-12 2.62423735e-12\n",
            " 1.37109442e-12 6.40895744e-13 2.18128833e-13 3.15350250e-14\n",
            " 3.44214908e-15 3.62737683e-16 3.44214908e-15 9.60097187e-15\n",
            " 6.33015847e-14 2.94496692e-13 7.65407383e-13 1.59339859e-12\n",
            " 2.83388429e-12 4.55654099e-12 6.67978357e-12 9.12759920e-12\n",
            " 1.16562050e-11 1.36830597e-11 1.54650819e-11 1.65284127e-11\n",
            " 1.68078828e-11 1.65358063e-11 1.56088032e-11 1.38609632e-11\n",
            " 1.14525085e-11 8.51475774e-12 5.77248401e-12 3.55247536e-12\n",
            " 1.91486908e-12 8.80024773e-13 3.26294123e-13 6.35871441e-14\n",
            " 4.53036213e-15 1.47410420e-15 6.35176837e-15 4.04182393e-14\n",
            " 1.72261810e-13 4.84571238e-13 1.09228806e-12 2.14886575e-12\n",
            " 3.76824254e-12 5.89370785e-12 8.43895328e-12 1.11549864e-11\n",
            " 1.33659189e-11 1.46845398e-11 1.52914540e-11 1.52956834e-11\n",
            " 1.52250885e-11 1.52259528e-11 1.50770375e-11 1.42184837e-11\n",
            " 1.23197140e-11 9.48729606e-12 6.54543170e-12 4.01547528e-12\n",
            " 2.08601180e-12 9.14098962e-13 3.38889610e-13 5.29597018e-14\n",
            " 2.09153005e-15 8.33524889e-16 9.63184317e-15 6.76853082e-14\n",
            " 2.37330777e-13 5.88931641e-13 1.24978568e-12 2.47345424e-12\n",
            " 4.36583358e-12 6.82378271e-12 9.65484228e-12 1.21247154e-11\n",
            " 1.35599604e-11 1.36458752e-11 1.29867268e-11 1.22951867e-11\n",
            " 1.23082916e-11 1.29094791e-11 1.37529291e-11 1.37274063e-11\n",
            " 1.22442182e-11 9.47362779e-12 6.56825331e-12 3.94088252e-12\n",
            " 1.94857281e-12 7.74190266e-13 2.43968104e-13 3.52858870e-14\n",
            " 2.29219345e-15 1.43551509e-15 8.15002114e-15 7.16677048e-14\n",
            " 2.26232547e-13 5.51986422e-13 1.25967221e-12 2.58476068e-12\n",
            " 4.62094622e-12 7.39673074e-12 1.02949740e-11 1.22991074e-11\n",
            " 1.26703192e-11 1.15658139e-11 1.02583683e-11 9.76037579e-12\n",
            " 1.03885834e-11 1.15712549e-11 1.29059675e-11 1.31575454e-11\n",
            " 1.16065640e-11 8.80395229e-12 5.96437224e-12 3.54168584e-12\n",
            " 1.66644779e-12 5.94473038e-13 1.45519554e-13 2.61248310e-14\n",
            " 1.13451999e-15 1.41236162e-15 6.66819912e-15 5.73588609e-14\n",
            " 1.60970635e-13 4.59187318e-13 1.21115797e-12 2.65305570e-12\n",
            " 4.92788404e-12 7.88002854e-12 1.07336782e-11 1.20998795e-11\n",
            " 1.16143127e-11 1.00665264e-11 9.04654662e-12 9.29952914e-12\n",
            " 1.03915548e-11 1.19517899e-11 1.31797959e-11 1.29318454e-11\n",
            " 1.08607058e-11 7.98498321e-12 5.25303593e-12 3.12741626e-12\n",
            " 1.56959683e-12 5.22419442e-13 8.35377167e-14 1.40695914e-14\n",
            " 1.54356461e-16 0.00000000e+00 4.39144132e-15 2.80156977e-14\n",
            " 1.09747444e-13 3.75942879e-13 1.23106224e-12 2.86824404e-12\n",
            " 5.35202473e-12 8.48382471e-12 1.10966474e-11 1.19962523e-11\n",
            " 1.11666403e-11 9.90242232e-12 9.85764352e-12 1.10518377e-11\n",
            " 1.25398649e-11 1.38971753e-11 1.43725237e-11 1.31257403e-11\n",
            " 1.03849483e-11 7.28504612e-12 4.74351297e-12 2.92429859e-12\n",
            " 1.57550096e-12 5.53020611e-13 5.78142125e-14 7.66379829e-15\n",
            " 1.28887645e-15 0.00000000e+00 1.32746556e-15 1.05348285e-14\n",
            " 7.96016269e-14 3.71775254e-13 1.33888022e-12 3.18208160e-12\n",
            " 5.89998244e-12 8.98266620e-12 1.12778310e-11 1.18210037e-11\n",
            " 1.11525244e-11 1.07172855e-11 1.19612597e-11 1.38102417e-11\n",
            " 1.53159195e-11 1.59478240e-11 1.55386096e-11 1.33803590e-11\n",
            " 1.00202658e-11 6.89808219e-12 4.64900822e-12 2.96745666e-12\n",
            " 1.67845672e-12 6.60653371e-13 7.58430471e-14 1.35679329e-14\n",
            " 3.93608976e-16 0.00000000e+00 4.86222852e-16 1.55900026e-15\n",
            " 5.69652519e-14 4.11221048e-13 1.55318874e-12 3.60247142e-12\n",
            " 6.31730829e-12 9.17137469e-12 1.11444284e-11 1.16456239e-11\n",
            " 1.15120747e-11 1.21127528e-11 1.42783431e-11 1.60747359e-11\n",
            " 1.72228084e-11 1.69525997e-11 1.58225560e-11 1.31737760e-11\n",
            " 9.84436886e-12 6.99157590e-12 4.89079218e-12 3.16461616e-12\n",
            " 1.80068388e-12 7.29149050e-13 9.58862336e-14 1.18314227e-14\n",
            " 0.00000000e+00 0.00000000e+00 0.00000000e+00 5.51052566e-15\n",
            " 6.41968521e-14 4.68402399e-13 1.83103808e-12 3.94210194e-12\n",
            " 6.38856695e-12 8.85686568e-12 1.05654065e-11 1.11663702e-11\n",
            " 1.15369338e-11 1.29424651e-11 1.52054312e-11 1.67416175e-11\n",
            " 1.72630105e-11 1.62994789e-11 1.50116906e-11 1.25325329e-11\n",
            " 9.67825044e-12 7.19786559e-12 5.12617807e-12 3.34404783e-12\n",
            " 1.84801729e-12 7.39946285e-13 1.22165421e-13 1.95183745e-14\n",
            " 7.02321898e-16 0.00000000e+00 7.64064482e-16 1.59373046e-14\n",
            " 8.89170394e-14 5.66140910e-13 2.12067255e-12 4.13323383e-12\n",
            " 6.22947946e-12 8.20607569e-12 9.56952946e-12 1.02162136e-11\n",
            " 1.09365489e-11 1.24717860e-11 1.43513151e-11 1.57281902e-11\n",
            " 1.58468671e-11 1.49569018e-11 1.37693527e-11 1.18104997e-11\n",
            " 9.56918216e-12 7.32575764e-12 5.17524799e-12 3.30057333e-12\n",
            " 1.76648621e-12 7.04799319e-13 1.39769775e-13 2.24434294e-14\n",
            " 1.58987155e-15 0.00000000e+00 8.56678359e-16 1.92482507e-14\n",
            " 1.36566879e-13 7.48188920e-13 2.36877740e-12 4.22311559e-12\n",
            " 5.98578148e-12 7.46994973e-12 8.55486727e-12 9.20514788e-12\n",
            " 9.95166204e-12 1.10912758e-11 1.26641604e-11 1.40464457e-11\n",
            " 1.43631311e-11 1.39275603e-11 1.29520969e-11 1.14557037e-11\n",
            " 9.48292777e-12 7.32186786e-12 5.01359819e-12 3.06945541e-12\n",
            " 1.58331140e-12 6.44608017e-13 1.58855952e-13 2.46044199e-14\n",
            " 3.78173329e-16 4.63069383e-16 3.00995099e-16 2.51292319e-14\n",
            " 2.04506875e-13 9.32274435e-13 2.57580029e-12 4.35184888e-12\n",
            " 5.96194885e-12 7.23836873e-12 8.19535563e-12 8.83914556e-12\n",
            " 9.39687404e-12 1.03016807e-11 1.18648255e-11 1.33094013e-11\n",
            " 1.39521493e-11 1.37981247e-11 1.30028030e-11 1.15479162e-11\n",
            " 9.41964162e-12 6.99087358e-12 4.67236236e-12 2.80366130e-12\n",
            " 1.41737820e-12 5.78304199e-13 1.60924328e-13 2.45118060e-14\n",
            " 1.21169822e-15 0.00000000e+00 1.92173794e-15 3.68448872e-14\n",
            " 2.78760051e-13 1.06089196e-12 2.73095940e-12 4.55356191e-12\n",
            " 6.27968390e-12 7.73768873e-12 8.82461290e-12 9.58944145e-12\n",
            " 1.01444455e-11 1.12100685e-11 1.27209250e-11 1.41267496e-11\n",
            " 1.46882290e-11 1.43142850e-11 1.31775654e-11 1.12770206e-11\n",
            " 8.83336491e-12 6.28251634e-12 4.05407983e-12 2.34316195e-12\n",
            " 1.15143746e-12 4.73380395e-13 1.52149164e-13 2.88492226e-14\n",
            " 9.33856589e-16 0.00000000e+00 2.73210936e-15 5.22187908e-14\n",
            " 3.17804518e-13 1.07496927e-12 2.62466183e-12 4.56303939e-12\n",
            " 6.63431787e-12 8.57464805e-12 1.00931683e-11 1.11885975e-11\n",
            " 1.21574236e-11 1.33074255e-11 1.47036337e-11 1.56045352e-11\n",
            " 1.56514673e-11 1.45392595e-11 1.26620612e-11 1.01676299e-11\n",
            " 7.54699675e-12 5.08665510e-12 3.09963981e-12 1.70245915e-12\n",
            " 8.07994331e-13 3.43196155e-13 1.10002132e-13 2.18645927e-14\n",
            " 0.00000000e+00 0.00000000e+00 1.37377250e-15 3.94303580e-14\n",
            " 2.49231660e-13 8.80426100e-13 2.14633431e-12 4.04358360e-12\n",
            " 6.29379980e-12 8.69232170e-12 1.08024285e-11 1.24788400e-11\n",
            " 1.39214169e-11 1.51836978e-11 1.62311684e-11 1.63519061e-11\n",
            " 1.54355458e-11 1.34058123e-11 1.08634920e-11 8.12865821e-12\n",
            " 5.65338256e-12 3.52182017e-12 1.98640558e-12 1.03022905e-12\n",
            " 4.87411397e-13 2.10017401e-13 5.22110729e-14 1.00717591e-14\n",
            " 0.00000000e+00 0.00000000e+00 3.08712922e-17 2.04908202e-14\n",
            " 1.34822651e-13 5.25560596e-13 1.39024234e-12 2.91121688e-12\n",
            " 4.99700487e-12 7.46878434e-12 9.91879183e-12 1.21656739e-11\n",
            " 1.38925137e-11 1.50251660e-11 1.53759024e-11 1.47608074e-11\n",
            " 1.31435298e-11 1.06897483e-11 8.05565532e-12 5.56159449e-12\n",
            " 3.56464637e-12 2.10333832e-12 1.13941309e-12 5.67391197e-13\n",
            " 2.61248310e-13 1.01149789e-13 1.89549734e-14 3.95152540e-15\n",
            " 0.00000000e+00 0.00000000e+00 0.00000000e+00 8.76744699e-15\n",
            " 4.54425421e-14 2.09909351e-13 6.15349750e-13 1.49883211e-12\n",
            " 2.94310692e-12 4.87771819e-12 7.13402376e-12 9.34703234e-12\n",
            " 1.12022812e-11 1.21631888e-11 1.21090946e-11 1.11170456e-11\n",
            " 9.31163841e-12 7.07767594e-12 4.95491186e-12 3.15796340e-12\n",
            " 1.92533445e-12 1.07964627e-12 5.54186002e-13 2.76776570e-13\n",
            " 1.29559096e-13 4.59827897e-14 4.36828785e-15 9.33856589e-16\n",
            " 0.00000000e+00 0.00000000e+00 0.00000000e+00 3.60422336e-15\n",
            " 1.42085122e-14 6.50612483e-14 1.87990734e-13 5.14323446e-13\n",
            " 1.12179330e-12 2.05083397e-12 3.31516002e-12 4.63706875e-12\n",
            " 5.71040184e-12 6.30749122e-12 6.28109626e-12 5.64192931e-12\n",
            " 4.59417309e-12 3.45249096e-12 2.43104480e-12 1.54655141e-12\n",
            " 9.18721938e-13 4.96742245e-13 2.32383652e-13 1.07794835e-13\n",
            " 4.67777255e-14 1.15921702e-14 5.71118906e-16 0.00000000e+00\n",
            " 0.00000000e+00 0.00000000e+00 0.00000000e+00 6.01990198e-16\n",
            " 9.49292235e-16 1.29273536e-14 5.49277466e-14 1.77803207e-13\n",
            " 4.11823038e-13 7.73387612e-13 1.20498371e-12 1.68620542e-12\n",
            " 2.03653284e-12 2.28866640e-12 2.28022310e-12 1.99383784e-12\n",
            " 1.63762172e-12 1.33330796e-12 9.91994950e-13 6.61865069e-13\n",
            " 3.90560435e-13 2.02778083e-13 1.00470620e-13 4.67700077e-14\n",
            " 2.17719788e-14 6.49068919e-15 0.00000000e+00 0.00000000e+00\n",
            " 0.00000000e+00 0.00000000e+00 0.00000000e+00 0.00000000e+00\n",
            " 2.93277276e-16 3.75857983e-15 1.70718246e-14 6.60336940e-14\n",
            " 1.49131495e-13 2.83915557e-13 4.36381151e-13 5.84902938e-13\n",
            " 7.41659642e-13 8.37044217e-13 7.84956629e-13 6.69065798e-13\n",
            " 5.62567558e-13 4.49408836e-13 3.17187092e-13 2.16214813e-13\n",
            " 1.31411373e-13 7.05563383e-14 3.21910399e-14 1.14300959e-14\n",
            " 2.09153005e-15 2.16099045e-16 0.00000000e+00 0.00000000e+00\n",
            " 0.00000000e+00 0.00000000e+00 0.00000000e+00 0.00000000e+00\n",
            " 0.00000000e+00 5.40247614e-17 1.64389631e-15 4.66156512e-15\n",
            " 9.73217487e-15 1.17156554e-14 1.67708295e-14 3.49385849e-14\n",
            " 4.98108300e-14 7.15750910e-14 7.08110265e-14 7.97173943e-14\n",
            " 7.59279432e-14 6.67591694e-14 4.80280128e-14 2.96904653e-14\n",
            " 1.05425463e-14 1.63617849e-15 4.16762445e-16 3.07169357e-15\n",
            " 4.78505029e-16 0.00000000e+00 0.00000000e+00 0.00000000e+00\n",
            " 0.00000000e+00]\n"
          ],
          "name": "stdout"
        }
      ]
    },
    {
      "cell_type": "code",
      "metadata": {
        "id": "FvICIEWNHHF4"
      },
      "source": [
        "iteration=np.array(range(1,51))"
      ],
      "execution_count": 16,
      "outputs": []
    },
    {
      "cell_type": "code",
      "metadata": {
        "colab": {
          "base_uri": "https://localhost:8080/",
          "height": 295
        },
        "id": "yDTawauqfVTp",
        "outputId": "55d043c8-47a2-4715-eb00-72616cd29538"
      },
      "source": [
        "plt.plot(iteration,cost)\n",
        "plt.title(\"Mean Square Error v/s Iterations\")\n",
        "plt.xlabel(\"Iterations\")\n",
        "plt.ylabel(\"Cost\")\n",
        "plt.show()"
      ],
      "execution_count": 17,
      "outputs": [
        {
          "output_type": "display_data",
          "data": {
            "image/png": "[encoded data removed]",
            "text/plain": [
              "<Figure size 432x288 with 1 Axes>"
            ]
          },
          "metadata": {
            "tags": [],
            "needs_background": "light"
          }
        }
      ]
    },
    {
      "cell_type": "code",
      "metadata": {
        "id": "ShzjpJr7KbD6"
      },
      "source": [
        ""
      ],
      "execution_count": null,
      "outputs": []
    }
  ]
}