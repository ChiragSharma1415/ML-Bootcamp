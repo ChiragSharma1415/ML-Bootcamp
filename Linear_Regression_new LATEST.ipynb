{
  "nbformat": 4,
  "nbformat_minor": 0,
  "metadata": {
    "colab": {
      "name": "Linear Regression new.ipynb",
      "provenance": [],
      "collapsed_sections": []
    },
    "kernelspec": {
      "name": "python3",
      "display_name": "Python 3"
    },
    "language_info": {
      "name": "python"
    }
  },
  "cells": [
    {
      "cell_type": "code",
      "metadata": {
        "id": "mWQRNjufoJq6"
      },
      "source": [
        "import numpy as np\n",
        "from numpy import genfromtxt\n",
        "import matplotlib.pyplot as plt  # To visualize\n",
        "import pandas as pd  # To read data\n",
        "from sklearn import preprocessing"
      ],
      "execution_count": 10,
      "outputs": []
    },
    {
      "cell_type": "code",
      "metadata": {
        "id": "xPvYy1eeosSq"
      },
      "source": [
        "data=pd.read_csv('/content/sample_data/mnist_train_small.csv')"
      ],
      "execution_count": 11,
      "outputs": []
    },
    {
      "cell_type": "code",
      "metadata": {
        "colab": {
          "base_uri": "https://localhost:8080/"
        },
        "id": "K_50bjzXo1ry",
        "outputId": "b074660e-ba74-4f4d-9304-8f034f09a0e5"
      },
      "source": [
        "print(data)"
      ],
      "execution_count": 12,
      "outputs": [
        {
          "output_type": "stream",
          "text": [
            "       6  0  0.1  0.2  0.3  0.4  ...  0.585  0.586  0.587  0.588  0.589  0.590\n",
            "0      5  0    0    0    0    0  ...      0      0      0      0      0      0\n",
            "1      7  0    0    0    0    0  ...      0      0      0      0      0      0\n",
            "2      9  0    0    0    0    0  ...      0      0      0      0      0      0\n",
            "3      5  0    0    0    0    0  ...      0      0      0      0      0      0\n",
            "4      2  0    0    0    0    0  ...      0      0      0      0      0      0\n",
            "...   .. ..  ...  ...  ...  ...  ...    ...    ...    ...    ...    ...    ...\n",
            "19994  0  0    0    0    0    0  ...      0      0      0      0      0      0\n",
            "19995  1  0    0    0    0    0  ...      0      0      0      0      0      0\n",
            "19996  2  0    0    0    0    0  ...      0      0      0      0      0      0\n",
            "19997  9  0    0    0    0    0  ...      0      0      0      0      0      0\n",
            "19998  5  0    0    0    0    0  ...      0      0      0      0      0      0\n",
            "\n",
            "[19999 rows x 785 columns]\n"
          ],
          "name": "stdout"
        }
      ]
    },
    {
      "cell_type": "code",
      "metadata": {
        "id": "trBDw_AXo3R-"
      },
      "source": [
        "y=data.iloc[:,:1].values"
      ],
      "execution_count": 13,
      "outputs": []
    },
    {
      "cell_type": "code",
      "metadata": {
        "colab": {
          "base_uri": "https://localhost:8080/"
        },
        "id": "jbcbPqxphdD7",
        "outputId": "55889e9d-2ae5-4d07-e511-1a286f7b3d4f"
      },
      "source": [
        "y"
      ],
      "execution_count": 14,
      "outputs": [
        {
          "output_type": "execute_result",
          "data": {
            "text/plain": [
              "array([[5],\n",
              "       [7],\n",
              "       [9],\n",
              "       ...,\n",
              "       [2],\n",
              "       [9],\n",
              "       [5]])"
            ]
          },
          "metadata": {
            "tags": []
          },
          "execution_count": 14
        }
      ]
    },
    {
      "cell_type": "code",
      "metadata": {
        "id": "qlPHu3_8pCwK"
      },
      "source": [
        "X=data.iloc[:,1:].values"
      ],
      "execution_count": 15,
      "outputs": []
    },
    {
      "cell_type": "code",
      "metadata": {
        "colab": {
          "base_uri": "https://localhost:8080/"
        },
        "id": "2lgmjssGRDxm",
        "outputId": "2f1c0c04-1b13-4588-c34f-d065243b5454"
      },
      "source": [
        "X"
      ],
      "execution_count": 16,
      "outputs": [
        {
          "output_type": "execute_result",
          "data": {
            "text/plain": [
              "array([[0, 0, 0, ..., 0, 0, 0],\n",
              "       [0, 0, 0, ..., 0, 0, 0],\n",
              "       [0, 0, 0, ..., 0, 0, 0],\n",
              "       ...,\n",
              "       [0, 0, 0, ..., 0, 0, 0],\n",
              "       [0, 0, 0, ..., 0, 0, 0],\n",
              "       [0, 0, 0, ..., 0, 0, 0]])"
            ]
          },
          "metadata": {
            "tags": []
          },
          "execution_count": 16
        }
      ]
    },
    {
      "cell_type": "code",
      "metadata": {
        "id": "HIFo6suCfneM"
      },
      "source": [
        "X_max, X_min = X.max(), X.min()\n",
        "X = (X - X_min)/(X_max - X_min)"
      ],
      "execution_count": 17,
      "outputs": []
    },
    {
      "cell_type": "code",
      "metadata": {
        "id": "pc639QGjRW6X"
      },
      "source": [
        "m=X.shape[0] #rows\n",
        "n=X.shape[1] #columns"
      ],
      "execution_count": 18,
      "outputs": []
    },
    {
      "cell_type": "code",
      "metadata": {
        "id": "31C1TAprSDpG"
      },
      "source": [
        "ones=np.ones((m,1))"
      ],
      "execution_count": 19,
      "outputs": []
    },
    {
      "cell_type": "code",
      "metadata": {
        "id": "wPY15DNfRzeV"
      },
      "source": [
        "X=np.concatenate((ones,X),axis=1)"
      ],
      "execution_count": 20,
      "outputs": []
    },
    {
      "cell_type": "code",
      "metadata": {
        "colab": {
          "base_uri": "https://localhost:8080/"
        },
        "id": "t5oL2R5uSFfW",
        "outputId": "7a7b9e48-0e4e-4360-9838-16e5ab4285be"
      },
      "source": [
        "X"
      ],
      "execution_count": 21,
      "outputs": [
        {
          "output_type": "execute_result",
          "data": {
            "text/plain": [
              "array([[1., 0., 0., ..., 0., 0., 0.],\n",
              "       [1., 0., 0., ..., 0., 0., 0.],\n",
              "       [1., 0., 0., ..., 0., 0., 0.],\n",
              "       ...,\n",
              "       [1., 0., 0., ..., 0., 0., 0.],\n",
              "       [1., 0., 0., ..., 0., 0., 0.],\n",
              "       [1., 0., 0., ..., 0., 0., 0.]])"
            ]
          },
          "metadata": {
            "tags": []
          },
          "execution_count": 21
        }
      ]
    },
    {
      "cell_type": "code",
      "metadata": {
        "id": "iPS2r5UgyUpz"
      },
      "source": [
        "from sklearn.model_selection import train_test_split"
      ],
      "execution_count": 22,
      "outputs": []
    },
    {
      "cell_type": "code",
      "metadata": {
        "id": "qwYVgNN5yZzb"
      },
      "source": [
        "X_train, X_test, y_train, y_test = train_test_split(X, y, test_size=0.2)"
      ],
      "execution_count": 23,
      "outputs": []
    },
    {
      "cell_type": "code",
      "metadata": {
        "id": "MO-9JpOFsBPT"
      },
      "source": [
        "def costfn_and_grad_descent(X,y,alpha,max_iter):  #alpha is learning rate\n",
        "   cost=np.random.randn(max_iter)\n",
        "   Theta=np.random.randn(n+1) #initial weight vector\n",
        "   h=np.dot(X_train, Theta) #hypothesis\n",
        "   for i in range(0,max_iter):\n",
        "      for j in range(0,n):\n",
        "        Theta[j]=Theta[j]-(alpha/X_train.shape[0])*(np.dot(sum(h-y_train),X_train[:,j]))\n",
        "      h=np.dot(X_train,Theta)\n",
        "      t=np.dot(X_test,Theta)\n",
        "      cost[i]=(1/(2*X_test.shape[0]))*(np.sum(np.square((t-y_test))))\n",
        "   return cost, Theta\n"
      ],
      "execution_count": 24,
      "outputs": []
    },
    {
      "cell_type": "code",
      "metadata": {
        "id": "967BPEn6QwRd"
      },
      "source": [
        "cost,Theta =costfn_and_grad_descent(X,y,0.00000000000000001,50)"
      ],
      "execution_count": 25,
      "outputs": []
    },
    {
      "cell_type": "code",
      "metadata": {
        "colab": {
          "base_uri": "https://localhost:8080/"
        },
        "id": "Pe1FAD462UFr",
        "outputId": "27323648-4ed2-4a65-f544-5433d44be792"
      },
      "source": [
        "print(cost)"
      ],
      "execution_count": 26,
      "outputs": [
        {
          "output_type": "stream",
          "text": [
            "[110791.28562969 110791.28562942 110791.28562915 110791.28562888\n",
            " 110791.28562862 110791.28562835 110791.28562808 110791.28562781\n",
            " 110791.28562755 110791.28562728 110791.28562701 110791.28562674\n",
            " 110791.28562647 110791.28562621 110791.28562594 110791.28562567\n",
            " 110791.2856254  110791.28562514 110791.28562487 110791.2856246\n",
            " 110791.28562433 110791.28562407 110791.2856238  110791.28562353\n",
            " 110791.28562326 110791.28562299 110791.28562273 110791.28562246\n",
            " 110791.28562219 110791.28562192 110791.28562166 110791.28562139\n",
            " 110791.28562112 110791.28562085 110791.28562059 110791.28562032\n",
            " 110791.28562005 110791.28561978 110791.28561952 110791.28561925\n",
            " 110791.28561898 110791.28561871 110791.28561844 110791.28561818\n",
            " 110791.28561791 110791.28561764 110791.28561737 110791.28561711\n",
            " 110791.28561684 110791.28561657]\n"
          ],
          "name": "stdout"
        }
      ]
    },
    {
      "cell_type": "code",
      "metadata": {
        "colab": {
          "base_uri": "https://localhost:8080/"
        },
        "id": "CsTikQmL2Wcv",
        "outputId": "f4d48f1f-f040-4068-c066-69efe4554c21"
      },
      "source": [
        "print(Theta)"
      ],
      "execution_count": 27,
      "outputs": [
        {
          "output_type": "stream",
          "text": [
            "[ 6.86853851e-01 -8.69779804e-01 -1.29985860e+00  1.03559666e+00\n",
            " -7.45401577e-02 -4.35046905e-01 -2.22446622e-01  1.24768595e+00\n",
            "  1.28278370e+00 -2.69199841e+00 -6.50289122e-01  2.07646777e+00\n",
            " -1.47631286e-01 -6.24508621e-01  1.12546062e+00 -4.31855419e-02\n",
            "  1.24397834e+00 -1.89371476e+00 -1.03279911e+00 -2.43504632e+00\n",
            "  1.99391506e-01 -2.10240397e+00  1.19817395e+00 -6.76303487e-01\n",
            " -4.05565632e-01 -3.63832576e-01  5.05031710e-01  7.31266901e-02\n",
            " -2.51247205e-01  1.27829123e+00 -1.49515673e+00  1.35668395e+00\n",
            " -7.95279788e-01  8.16165643e-01 -7.19322489e-01 -4.16930174e-01\n",
            " -9.46923562e-01 -1.42596150e+00  1.11943987e-01  4.91243610e-01\n",
            "  5.52494896e-01 -5.25378299e-01 -1.88025304e+00 -6.65812510e-01\n",
            "  4.93359088e-01  1.57579704e+00  1.32211306e+00  6.09819941e-01\n",
            "  6.07728730e-03 -3.72189623e-01 -1.68726035e+00 -4.12274997e-01\n",
            " -2.24561922e-01  1.13424377e+00  2.21488618e-01 -3.12753235e+00\n",
            " -8.13947539e-01  8.66895134e-01 -1.48077580e+00  5.36435636e-01\n",
            " -2.60122385e-01 -6.42445543e-02 -2.35972111e-02 -8.78253398e-01\n",
            " -1.04907563e+00  8.95191247e-01 -2.47891031e+00  1.85267815e+00\n",
            " -9.88894078e-01  4.33912863e-01  1.00556542e+00  5.34383333e-01\n",
            "  1.64242758e-01  9.57395358e-01  1.13921158e+00 -2.30008551e-01\n",
            "  4.22640489e-01  7.67830516e-01  1.31466767e+00 -1.42580217e-01\n",
            " -3.70903363e-01 -7.96566370e-01  9.83225758e-01  1.10348745e+00\n",
            " -8.09247073e-02  1.08333017e-01  1.15463958e+00 -8.27794681e-01\n",
            " -1.72406139e-01 -5.62628369e-01  4.21355281e-01 -2.42625905e-01\n",
            " -8.42700191e-01 -7.72809688e-01 -9.05756983e-01  1.07332640e-01\n",
            "  2.34337993e-01  5.65031750e-02  1.75556057e+00  1.17965614e-01\n",
            " -2.08214352e+00  7.74568576e-01  9.63917010e-02  1.09550966e-01\n",
            "  1.38168621e+00  9.45456543e-01 -5.51912666e-01  2.37587518e+00\n",
            " -2.02549497e-01 -5.28764922e-01 -2.26954052e+00  2.15478824e-01\n",
            " -1.41995031e-01  1.23356311e+00  6.39608211e-01  6.65753847e-01\n",
            "  1.68007761e-01  7.54489318e-01 -9.24876046e-01 -5.55614634e-01\n",
            " -1.45817628e+00 -3.77618497e-01 -4.20698078e-01  5.24393454e-01\n",
            "  1.96679174e+00  1.96554660e+00 -1.45374791e+00 -9.12287673e-03\n",
            " -5.10838148e-02 -5.86301449e-01 -1.04821857e+00  9.75092224e-01\n",
            "  5.67319428e-01 -2.40137799e-01 -4.92730062e-01 -1.10747419e+00\n",
            "  3.51449639e-01 -4.72280489e-01  1.73110982e-02  1.28719010e+00\n",
            "  2.13191226e-01 -1.56122115e+00 -2.63650627e+00  6.27614880e-01\n",
            " -1.12417618e+00  1.91723322e+00 -1.13108563e+00  1.19786063e+00\n",
            " -1.40648607e+00 -1.22767409e+00 -4.94757833e-01  3.09698603e-01\n",
            " -1.04758356e+00 -1.55973788e+00  1.04415780e+00 -2.28826382e+00\n",
            " -9.07509082e-02  6.89598263e-01  1.64270554e+00 -4.07921785e-01\n",
            "  3.55087755e-01 -1.22148220e+00 -9.89336194e-01  5.90846233e-01\n",
            "  2.11721320e-01 -1.04543125e+00 -3.17464635e-01  3.05748737e-01\n",
            " -8.95053251e-01  5.59519899e-01 -1.41593314e+00  2.63291216e-02\n",
            " -7.47449153e-01  2.27365936e+00 -1.54733302e+00 -9.10177393e-01\n",
            " -2.19204142e-01 -2.97779914e-01 -4.78094673e-02  4.44911743e-02\n",
            " -1.55900818e+00  1.02013048e+00  2.40998922e-01 -1.21378279e-01\n",
            " -6.05956800e-02 -1.13722881e+00 -2.09381338e-01 -6.31148358e-02\n",
            " -8.46428162e-01  4.62016416e-01  2.28902269e-01 -1.24034469e+00\n",
            " -1.38137689e-02  5.46449871e-01 -1.29894220e+00  1.29837251e+00\n",
            "  6.88169090e-01  2.98271443e-01 -2.52639846e-01  7.81685683e-02\n",
            "  5.52189074e-01  1.27197755e+00  7.68237986e-01 -9.01268740e-01\n",
            " -5.11878469e-01 -3.51229351e-03  1.52018975e+00 -9.24064128e-01\n",
            "  4.18095896e-01  9.48061664e-01 -1.13688936e+00  1.14758396e+00\n",
            " -1.38542298e+00  1.23623395e+00  1.26181221e-01 -2.26601285e-02\n",
            " -8.15762742e-01 -6.73849233e-01  5.92463845e-01 -5.93037573e-01\n",
            " -5.08815696e-01  1.34418389e+00 -1.82666913e+00 -5.33403239e-01\n",
            "  5.01836871e-01 -8.93272290e-01 -2.06564447e-01  2.54860192e-01\n",
            "  1.89825613e+00 -2.07210921e-02  2.45651129e-01 -8.56672688e-01\n",
            " -3.92763731e-01  6.50452087e-01 -1.79420875e-01  6.11383286e-03\n",
            "  2.51814817e-01  6.78732415e-01 -1.79667830e-01  1.07565496e+00\n",
            " -2.93955339e-01  2.23382138e+00  1.41065542e+00 -8.83333032e-01\n",
            " -4.78376244e-01  8.82228992e-01  1.40562348e+00  8.64958898e-01\n",
            "  1.72053303e+00  6.27458224e-01  9.64609404e-01 -1.98215858e-02\n",
            "  1.03552109e+00 -1.42634495e-01  2.49653996e-01 -3.72276740e-01\n",
            "  4.17928887e-01  3.18873628e-01  8.09058987e-02  1.27314734e-01\n",
            " -5.66251982e-01  3.09755135e-01  1.59987869e+00  1.05570128e+00\n",
            "  1.01728317e+00  1.45565915e+00  3.37356747e-01  3.28785888e-01\n",
            "  2.21993332e-01  3.79680796e-01 -2.01632466e-01  1.81877157e+00\n",
            " -9.17295925e-01  9.75401641e-01 -1.31872132e+00 -5.34790755e-01\n",
            "  5.94655479e-03  1.04554143e+00 -5.06707373e-01  1.57534348e+00\n",
            "  5.08827356e-01 -8.03641170e-01 -1.22079677e+00 -6.74502075e-01\n",
            " -1.03936387e+00  3.10625463e-02  7.64625025e-02 -1.34502671e+00\n",
            "  1.45178668e+00 -2.82520924e-01  1.98503451e-01  9.99228120e-03\n",
            " -9.14092834e-02 -1.17750823e+00  4.63311564e-01 -1.24804397e-01\n",
            " -7.12328681e-01 -1.48064523e+00  4.21999048e-01 -7.14313179e-01\n",
            " -7.91737456e-01  2.50222812e-01 -8.55530352e-01  6.96257020e-03\n",
            "  1.05399675e+00 -1.56695623e-01  2.70641617e+00 -2.60252565e+00\n",
            "  1.45203741e-01  3.44333758e-02 -1.23252737e-01  9.55930458e-02\n",
            "  1.14098350e+00 -1.43354643e+00 -1.43428181e+00  6.51670458e-01\n",
            " -7.03147892e-01  5.32721202e-01 -2.07552072e-01 -8.22496886e-01\n",
            "  1.37356050e-02 -4.26277253e-01  5.05913144e-01  1.30887879e+00\n",
            "  7.83002423e-01  2.01662563e-02  3.51682440e-01  1.02486844e+00\n",
            " -2.19041235e+00 -2.34082012e+00  6.12353853e-01 -6.48640256e-02\n",
            " -2.40138906e+00  1.04572779e+00 -1.10819339e+00  7.30417699e-01\n",
            " -8.91080603e-01  4.35880069e-01  4.87825683e-01  7.90954001e-01\n",
            "  1.12828297e+00 -1.19053849e-01 -8.00314570e-01 -6.21950114e-02\n",
            "  7.25436894e-01 -1.18418522e+00  4.24976084e-01  2.93662363e-01\n",
            "  2.03767827e+00 -1.07793085e+00  3.36524865e-02 -7.32943698e-01\n",
            " -4.32308675e-01 -4.88561610e-01  3.84376427e-01  6.50563032e-01\n",
            "  1.01170992e-01  2.40527242e-01 -4.50442377e-01  1.16737027e+00\n",
            "  5.27055257e-01  2.52805684e-01  7.50953434e-01 -6.28793614e-01\n",
            " -1.64560801e+00  7.14036678e-01 -1.34870183e+00 -7.91308230e-01\n",
            "  6.99490622e-01  5.76055249e-02  5.03303856e-02  1.21078188e+00\n",
            " -1.60789595e+00  4.86563748e-01  1.41578207e+00  5.47625387e-01\n",
            " -2.30330350e+00  2.55436647e+00 -6.23791772e-01  1.35756722e+00\n",
            "  1.40178103e+00  2.06853057e-01 -7.62686553e-01  1.92394773e+00\n",
            " -8.90151817e-01  9.77918781e-01  7.64430208e-01 -2.50809719e-01\n",
            " -9.97335065e-01  2.48504904e+00  8.91561222e-02 -2.75973249e-01\n",
            "  4.94590231e-01  3.13265016e-01  1.03273508e+00  1.36162625e-01\n",
            "  7.75712681e-01 -1.27949472e+00  7.72644405e-01 -9.26077385e-01\n",
            "  8.11959539e-01 -1.14398848e+00  1.60718353e+00 -8.36829809e-01\n",
            " -6.00602598e-01  1.29331378e+00 -7.07129939e-01 -3.10674583e-01\n",
            "  1.11313116e+00  8.80562163e-02 -3.63767649e-01  5.08432670e-01\n",
            "  1.84866766e-01 -1.21552499e+00 -1.92841389e+00  6.99014061e-01\n",
            "  6.18890614e-01 -9.37637027e-01  1.43802024e+00  2.93494143e-02\n",
            " -5.43039495e-01 -1.69898151e-01 -9.07805428e-01 -3.70122254e-01\n",
            " -1.15039557e+00 -2.92063116e-02  6.60760099e-01  1.15231017e+00\n",
            " -1.54900200e+00  2.68856220e-01  2.07016622e+00 -1.08761841e+00\n",
            " -1.02072194e+00 -2.25867453e-01  7.58005780e-01 -1.64170102e-02\n",
            " -2.14036530e-01  2.41136842e-01 -4.15286137e-01 -4.21661014e-01\n",
            " -1.11583314e+00 -2.43340580e-02  2.96801880e-01  1.43865541e+00\n",
            " -3.87095906e-01  5.41219129e-01  3.33662917e-01  6.12003262e-01\n",
            "  8.88039179e-01 -1.09673047e+00 -2.79289121e-01 -1.49131891e+00\n",
            " -3.28570224e-01 -8.65321099e-01 -1.42171789e+00 -2.19878414e-02\n",
            "  1.85182516e+00 -9.77304713e-01  7.29207864e-01  1.91701640e-02\n",
            "  2.62253822e-01 -3.55356238e-01 -1.32369469e+00  7.04586584e-02\n",
            " -7.59883075e-01 -4.57357647e-02  2.27035399e+00 -2.41627738e-01\n",
            "  8.72058335e-01 -1.62691066e+00  2.11193076e+00  2.18126786e+00\n",
            "  7.43751688e-01 -9.09418835e-01  1.41466857e+00  1.77647622e-01\n",
            "  2.26809543e-01  9.22504455e-01 -8.30162475e-01  6.27267656e-01\n",
            " -9.21937179e-01 -6.37092541e-01 -6.53066215e-01  7.17601557e-01\n",
            " -3.59704816e-01  8.84189381e-01 -6.53820388e-02 -2.82516713e-01\n",
            "  5.82855936e-01 -8.48069440e-02  9.10466633e-01  2.23817795e-01\n",
            "  1.60301796e+00  1.04543196e+00 -7.87455142e-01  6.17664045e-01\n",
            " -5.85712822e-01 -1.30947592e-01 -1.25168731e-01  4.42213533e-01\n",
            "  3.43892930e-01  1.01743579e+00  3.97984806e-01  8.51475749e-01\n",
            " -1.25218561e+00 -5.46010616e-01  2.54477748e+00 -2.96015018e-01\n",
            "  1.61099805e+00  8.02045105e-01 -2.78817983e-01 -7.34054240e-01\n",
            " -1.10509942e-01  1.21677796e-01  1.73075327e+00  1.40546511e+00\n",
            "  6.54897500e-01 -4.32202480e-01  1.22450631e-01  9.55093872e-01\n",
            " -6.50903110e-01  3.65890997e-01 -2.20692005e-01 -2.26109483e-01\n",
            "  1.39773459e-01 -2.48585941e-01 -3.77211654e-01 -2.24648646e+00\n",
            "  1.04862541e+00  1.77188103e+00 -1.99359941e+00 -1.10740663e+00\n",
            "  9.22835313e-01  5.53939291e-01 -5.23042053e-01  4.00598533e-03\n",
            " -7.48229142e-01 -2.07494139e+00  2.82099117e+00  1.06635891e+00\n",
            " -6.90689246e-02 -1.24178618e+00  1.21778807e+00 -7.65845759e-01\n",
            " -1.16863965e+00  1.06483115e+00 -1.43511476e-01  1.33446809e+00\n",
            " -1.36511662e-01  5.25893209e-01  1.95745434e-01  1.51126280e-01\n",
            " -5.86577152e-01  1.74188367e+00 -2.60056886e-01 -6.74106034e-01\n",
            " -5.12923815e-01 -7.42439575e-01 -8.47434388e-03  1.07964377e-01\n",
            "  8.72561920e-01 -8.59023854e-01 -9.04472273e-01 -3.89464654e-01\n",
            " -5.50775775e-01  1.09406021e+00 -6.86347856e-01  6.80399733e-01\n",
            "  4.26248461e-01 -1.62151061e+00  1.05802410e+00  2.16732572e+00\n",
            "  3.18723879e-01 -1.66856371e+00  2.51910008e+00 -7.55040461e-01\n",
            " -2.29101795e+00  1.05147427e+00 -3.00189477e+00  4.59780429e-01\n",
            "  4.71420188e-01  1.15623163e-01  1.74336236e+00 -2.59272199e-01\n",
            "  3.87796096e-01  2.11474370e+00 -5.51263513e-01  4.10340503e-01\n",
            " -1.36295711e+00  3.42353886e-01  2.51397564e-01 -1.31593192e+00\n",
            " -2.12262272e+00 -5.99852893e-01  1.98265858e+00  1.48016399e-01\n",
            " -1.09178626e+00  6.04904072e-01  1.79991032e-01 -2.40567116e-01\n",
            " -6.47095588e-01 -2.37767437e+00 -2.39460261e-01  1.10275996e+00\n",
            "  7.13133641e-01 -1.56664991e+00 -1.34168876e+00 -1.49717006e-01\n",
            "  5.92373129e-01  1.37233592e-01  4.82339803e-01  5.43588023e-01\n",
            "  5.60335080e-02  3.80452097e-01 -9.14460085e-02 -2.44207375e-01\n",
            "  1.55063106e-01  5.32696349e-01 -4.04850354e-02 -1.96976698e-01\n",
            " -3.05417009e-01  1.70935981e-01  1.12806776e+00  7.91779765e-02\n",
            " -1.64463918e-01 -1.45844034e-01  3.31398245e-01 -1.01065401e+00\n",
            "  1.30990687e+00  1.97378180e+00 -9.96834842e-01  2.15278108e-01\n",
            " -1.54618483e+00  9.17246461e-01  4.37763372e-01 -1.36588273e-01\n",
            "  8.40034959e-01  1.15090857e+00  2.35311750e-01  1.64935391e-02\n",
            "  5.80258189e-01 -2.33595281e+00 -1.34362942e+00 -1.12788610e+00\n",
            " -1.15346968e+00  1.04692525e+00  5.79391885e-01 -1.37555334e+00\n",
            " -2.24994886e-01 -3.22450787e-01  9.74672195e-01 -6.17816712e-01\n",
            " -7.56304066e-01  1.73164766e+00 -1.93779560e+00 -1.65797746e+00\n",
            " -3.61040230e-01 -1.25687919e+00 -1.94755241e+00  2.39498661e+00\n",
            "  1.33646026e+00 -1.02445886e+00  1.76169583e-01  1.21963982e+00\n",
            " -1.03796783e+00  3.21402424e+00 -1.29590531e+00  1.73556309e-01\n",
            " -6.86437237e-01  8.77154511e-01 -3.07970789e-01  1.14943539e+00\n",
            "  3.12825336e-02 -1.15433218e+00  1.28228945e+00  1.09825118e+00\n",
            " -3.81419459e-02  2.32334627e+00 -1.17366578e-01 -8.26580920e-01\n",
            "  1.24034830e+00 -8.32133682e-01 -1.59575378e+00 -1.82192307e-01\n",
            "  8.44639634e-01  1.40284375e+00 -1.36702296e+00  4.99952339e-01\n",
            "  1.21108704e+00 -1.31241464e+00 -8.79951799e-01 -9.69048144e-01\n",
            " -1.14961081e+00  7.58187222e-01 -6.95531106e-01  2.78577718e-01\n",
            "  6.38942609e-01  1.49903597e+00 -3.88258703e-01  1.11797243e+00\n",
            "  8.80149549e-01 -2.94122530e-02  1.16496854e+00 -4.99179195e-01\n",
            "  2.99568294e-02 -5.99697194e-01  9.78965820e-01 -7.58768285e-01\n",
            "  1.71016124e+00 -7.87488651e-01  1.51222457e+00 -1.23585234e+00\n",
            "  2.59599465e+00 -5.45515305e-01 -1.02353773e+00  9.21053346e-01\n",
            " -8.28690528e-01 -1.96264841e-03  1.77816621e+00  1.21019016e+00\n",
            "  1.12346576e+00  6.35293532e-01 -1.78352977e-01  7.12278180e-01\n",
            " -3.02451854e-01  1.83769219e+00  3.73705311e-01  8.66003064e-01\n",
            "  4.63582431e-01  4.38500364e-01 -5.42030465e-01  4.87848255e-02\n",
            "  1.78925269e-01 -4.82439022e-01 -4.71992663e-02  4.42752347e-01\n",
            "  1.27213480e+00 -5.85263840e-01  1.57222136e-01  6.12296697e-01\n",
            "  2.23137384e-01 -2.01248865e-01  9.92075608e-01  1.62345556e+00\n",
            " -2.39420982e-01 -3.33898110e-01  1.02981250e+00 -2.04366517e-01\n",
            " -7.84992866e-01 -1.29485263e+00  8.35630562e-01 -7.70273813e-01\n",
            " -1.04488230e+00 -8.73337432e-01 -2.62376484e-02 -4.22245605e-01\n",
            "  1.01502944e+00 -5.96465265e-01 -1.27670189e+00 -1.54409839e+00\n",
            " -7.54804963e-01  4.44506368e-01  6.39997205e-01 -6.68165748e-01\n",
            " -9.96350649e-01  5.16049622e-01  3.21375092e-01 -2.82147402e-01\n",
            " -3.38372532e-01 -1.75119828e+00  2.61533489e-01 -1.86587675e+00\n",
            " -1.05779280e-01 -6.96149580e-01  1.92753548e+00 -8.78380559e-01\n",
            " -4.59938866e-02  1.10960489e+00 -3.81238253e-02  1.60512223e+00\n",
            "  1.02572012e+00  1.64511726e+00  1.43438504e+00  1.96147882e-01\n",
            "  2.53590759e-01]\n"
          ],
          "name": "stdout"
        }
      ]
    },
    {
      "cell_type": "code",
      "metadata": {
        "id": "HwW4fvctgg6r"
      },
      "source": [
        "iteration=np.array(range(1,51))"
      ],
      "execution_count": 28,
      "outputs": []
    },
    {
      "cell_type": "code",
      "metadata": {
        "id": "QFM7-qN7gkVE",
        "colab": {
          "base_uri": "https://localhost:8080/",
          "height": 295
        },
        "outputId": "1e72b13d-5c7b-4000-f9d3-251413d764bd"
      },
      "source": [
        "plt.plot(iteration,cost)\n",
        "plt.title(\"Mean Square Error v/s Iterations\")\n",
        "plt.xlabel(\"Iterations\")\n",
        "plt.ylabel(\"Cost\")\n",
        "plt.show()"
      ],
      "execution_count": 29,
      "outputs": [
        {
          "output_type": "display_data",
          "data": {
            "image/png": "[encoded data removed]",
            "text/plain": [
              "<Figure size 432x288 with 1 Axes>"
            ]
          },
          "metadata": {
            "tags": [],
            "needs_background": "light"
          }
        }
      ]
    },
    {
      "cell_type": "code",
      "metadata": {
        "id": "9qii-c1yV7R8"
      },
      "source": [
        ""
      ],
      "execution_count": null,
      "outputs": []
    }
  ]
}