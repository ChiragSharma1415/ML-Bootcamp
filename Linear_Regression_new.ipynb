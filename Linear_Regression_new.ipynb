{
  "nbformat": 4,
  "nbformat_minor": 0,
  "metadata": {
    "colab": {
      "name": "Linear Regression new.ipynb",
      "provenance": [],
      "collapsed_sections": []
    },
    "kernelspec": {
      "name": "python3",
      "display_name": "Python 3"
    },
    "language_info": {
      "name": "python"
    }
  },
  "cells": [
    {
      "cell_type": "code",
      "metadata": {
        "id": "mWQRNjufoJq6"
      },
      "source": [
        "import numpy as np\n",
        "from numpy import genfromtxt\n",
        "import matplotlib.pyplot as plt  # To visualize\n",
        "import pandas as pd  # To read data"
      ],
      "execution_count": 4,
      "outputs": []
    },
    {
      "cell_type": "code",
      "metadata": {
        "id": "xPvYy1eeosSq"
      },
      "source": [
        "data=pd.read_csv('/content/sample_data/mnist_train_small.csv')"
      ],
      "execution_count": 5,
      "outputs": []
    },
    {
      "cell_type": "code",
      "metadata": {
        "colab": {
          "base_uri": "https://localhost:8080/"
        },
        "id": "K_50bjzXo1ry",
        "outputId": "aa330454-922e-41ee-eaf1-2e1fd69e44d4"
      },
      "source": [
        "print(data)"
      ],
      "execution_count": 6,
      "outputs": [
        {
          "output_type": "stream",
          "text": [
            "       6  0  0.1  0.2  0.3  0.4  ...  0.585  0.586  0.587  0.588  0.589  0.590\n",
            "0      5  0    0    0    0    0  ...      0      0      0      0      0      0\n",
            "1      7  0    0    0    0    0  ...      0      0      0      0      0      0\n",
            "2      9  0    0    0    0    0  ...      0      0      0      0      0      0\n",
            "3      5  0    0    0    0    0  ...      0      0      0      0      0      0\n",
            "4      2  0    0    0    0    0  ...      0      0      0      0      0      0\n",
            "...   .. ..  ...  ...  ...  ...  ...    ...    ...    ...    ...    ...    ...\n",
            "19994  0  0    0    0    0    0  ...      0      0      0      0      0      0\n",
            "19995  1  0    0    0    0    0  ...      0      0      0      0      0      0\n",
            "19996  2  0    0    0    0    0  ...      0      0      0      0      0      0\n",
            "19997  9  0    0    0    0    0  ...      0      0      0      0      0      0\n",
            "19998  5  0    0    0    0    0  ...      0      0      0      0      0      0\n",
            "\n",
            "[19999 rows x 785 columns]\n"
          ],
          "name": "stdout"
        }
      ]
    },
    {
      "cell_type": "code",
      "metadata": {
        "id": "trBDw_AXo3R-"
      },
      "source": [
        "y=data.iloc[:,:1].values"
      ],
      "execution_count": 7,
      "outputs": []
    },
    {
      "cell_type": "code",
      "metadata": {
        "colab": {
          "base_uri": "https://localhost:8080/"
        },
        "id": "jbcbPqxphdD7",
        "outputId": "f5bc208e-92ab-400b-e92d-9df8fd011cf0"
      },
      "source": [
        "y"
      ],
      "execution_count": 8,
      "outputs": [
        {
          "output_type": "execute_result",
          "data": {
            "text/plain": [
              "array([[5],\n",
              "       [7],\n",
              "       [9],\n",
              "       ...,\n",
              "       [2],\n",
              "       [9],\n",
              "       [5]])"
            ]
          },
          "metadata": {
            "tags": []
          },
          "execution_count": 8
        }
      ]
    },
    {
      "cell_type": "code",
      "metadata": {
        "id": "qlPHu3_8pCwK"
      },
      "source": [
        "X=data.iloc[:,1:].values"
      ],
      "execution_count": 9,
      "outputs": []
    },
    {
      "cell_type": "code",
      "metadata": {
        "colab": {
          "base_uri": "https://localhost:8080/"
        },
        "id": "2lgmjssGRDxm",
        "outputId": "fa7f1581-898a-4511-e983-434cc24dc50a"
      },
      "source": [
        "X"
      ],
      "execution_count": 10,
      "outputs": [
        {
          "output_type": "execute_result",
          "data": {
            "text/plain": [
              "array([[0, 0, 0, ..., 0, 0, 0],\n",
              "       [0, 0, 0, ..., 0, 0, 0],\n",
              "       [0, 0, 0, ..., 0, 0, 0],\n",
              "       ...,\n",
              "       [0, 0, 0, ..., 0, 0, 0],\n",
              "       [0, 0, 0, ..., 0, 0, 0],\n",
              "       [0, 0, 0, ..., 0, 0, 0]])"
            ]
          },
          "metadata": {
            "tags": []
          },
          "execution_count": 10
        }
      ]
    },
    {
      "cell_type": "code",
      "metadata": {
        "id": "pc639QGjRW6X"
      },
      "source": [
        "m=X.shape[0] #number of independant variables\n",
        "n=X.shape[1] #number of dependant variables"
      ],
      "execution_count": 11,
      "outputs": []
    },
    {
      "cell_type": "code",
      "metadata": {
        "id": "31C1TAprSDpG"
      },
      "source": [
        "ones=np.ones((m,1))"
      ],
      "execution_count": 12,
      "outputs": []
    },
    {
      "cell_type": "code",
      "metadata": {
        "id": "wPY15DNfRzeV"
      },
      "source": [
        "X=np.concatenate((ones,X),axis=1)"
      ],
      "execution_count": 13,
      "outputs": []
    },
    {
      "cell_type": "code",
      "metadata": {
        "colab": {
          "base_uri": "https://localhost:8080/"
        },
        "id": "t5oL2R5uSFfW",
        "outputId": "d3281ffb-02f7-43c8-d840-043f3624d0f8"
      },
      "source": [
        "X"
      ],
      "execution_count": 14,
      "outputs": [
        {
          "output_type": "execute_result",
          "data": {
            "text/plain": [
              "array([[1., 0., 0., ..., 0., 0., 0.],\n",
              "       [1., 0., 0., ..., 0., 0., 0.],\n",
              "       [1., 0., 0., ..., 0., 0., 0.],\n",
              "       ...,\n",
              "       [1., 0., 0., ..., 0., 0., 0.],\n",
              "       [1., 0., 0., ..., 0., 0., 0.],\n",
              "       [1., 0., 0., ..., 0., 0., 0.]])"
            ]
          },
          "metadata": {
            "tags": []
          },
          "execution_count": 14
        }
      ]
    },
    {
      "cell_type": "code",
      "metadata": {
        "id": "MO-9JpOFsBPT"
      },
      "source": [
        "def costfn_and_grad_descent(X,Y,alpha,max_iter):  #alpha is learning rate\n",
        "   cost=np.random.randn(max_iter)\n",
        "   Theta=np.random.randn(n+1) #initial weight vector\n",
        "   h=np.dot(X, Theta) #hypothesis\n",
        "   for i in range(0,max_iter):\n",
        "      for j in range(0,n):\n",
        "        Theta[j]=Theta[j]-(alpha/m)*(np.dot(sum(h-Y),X[:,j]))\n",
        "      h=np.dot(X,Theta)\n",
        "      cost[i]=(1/(2*m))*(np.sum(np.square((h-Y))))\n",
        "   return cost, Theta\n"
      ],
      "execution_count": 15,
      "outputs": []
    },
    {
      "cell_type": "code",
      "metadata": {
        "id": "967BPEn6QwRd"
      },
      "source": [
        "cost,Theta =costfn_and_grad_descent(X,y,0.00000000000000001,10)"
      ],
      "execution_count": 25,
      "outputs": []
    },
    {
      "cell_type": "code",
      "metadata": {
        "colab": {
          "base_uri": "https://localhost:8080/"
        },
        "id": "drw_6XD2SuyK",
        "outputId": "b68537ab-64d8-492e-d90b-fd93ca27d56f"
      },
      "source": [
        "print(cost)"
      ],
      "execution_count": 26,
      "outputs": [
        {
          "output_type": "stream",
          "text": [
            "[4.93661121e+10 4.93660982e+10 4.93660844e+10 4.93660706e+10\n",
            " 4.93660568e+10 4.93660430e+10 4.93660292e+10 4.93660154e+10\n",
            " 4.93660016e+10 4.93659878e+10]\n"
          ],
          "name": "stdout"
        }
      ]
    },
    {
      "cell_type": "code",
      "metadata": {
        "colab": {
          "base_uri": "https://localhost:8080/"
        },
        "id": "9suxudK2pSeI",
        "outputId": "f4fdefa3-a472-40bf-c066-6d0dd5b1a447"
      },
      "source": [
        "print(Theta)"
      ],
      "execution_count": 27,
      "outputs": [
        {
          "output_type": "stream",
          "text": [
            "[-1.08041684e+00  1.43657047e+00  7.38209768e-01  2.49962642e-02\n",
            "  4.34244252e-01  1.53380538e+00  3.86933814e-01 -3.24896978e-01\n",
            " -1.04008908e+00 -1.95216035e+00 -9.30854621e-01  2.32160680e-01\n",
            "  3.60154062e-01  2.19138318e+00  1.48989773e+00  7.34884777e-01\n",
            " -4.90082826e-02 -4.24723107e-01 -1.62399274e+00  1.23891272e+00\n",
            " -4.35843599e-01 -7.15580306e-01  1.22430067e+00 -1.00778586e+00\n",
            " -6.45661455e-01  1.04806030e+00  1.97864273e+00  9.93359591e-02\n",
            "  1.21166548e+00 -2.31753523e+00 -1.97394229e-01 -2.48648801e+00\n",
            "  3.62992614e-01  6.68733383e-01 -9.63363828e-01  2.11676569e+00\n",
            " -2.86779514e-02  7.04917420e-02  1.69666317e+00 -1.55797889e-01\n",
            " -1.81108807e+00 -3.36906746e-01  1.65071702e+00  5.17871781e-01\n",
            " -4.36193070e-01  5.26635061e-01 -2.52329664e-01  1.37171409e+00\n",
            "  1.71266120e+00 -5.64779695e-01 -9.05094700e-01 -1.09384367e+00\n",
            "  1.78404028e+00  1.21809125e+00 -1.42610851e+00 -5.07819498e-01\n",
            " -5.72350701e-01  1.20426272e-01 -2.13523224e+00  1.21406772e-01\n",
            " -4.82912460e-01 -1.15510305e+00  7.94727739e-01 -5.47307233e-01\n",
            "  2.58782747e-01 -1.84412558e+00  4.10533328e-01  1.39399389e+00\n",
            " -3.17455356e-01 -2.54367832e+00 -1.68034910e+00 -3.33979120e-01\n",
            "  1.08158650e+00  1.41391406e+00 -8.53540575e-01  2.25588367e-01\n",
            " -1.24293331e+00 -8.80114624e-01 -8.33115447e-01 -1.55546842e-01\n",
            "  9.47604572e-01  1.59789007e+00  1.17125560e+00 -1.36714230e+00\n",
            " -4.75862273e-02 -1.14566798e+00  8.01785174e-01 -2.54615489e-02\n",
            " -6.08821898e-01  1.14987057e+00 -5.32261257e-01  7.10570645e-01\n",
            " -4.25736600e-01 -1.60879800e+00 -1.31208172e+00 -9.29949017e-01\n",
            "  5.79983270e-02  2.87943956e-01 -7.23092775e-01  6.58233313e-01\n",
            "  2.62105281e-02 -8.96272657e-01 -1.89689127e-02  7.95379047e-01\n",
            "  4.91475878e-01  2.69962521e+00 -1.42275883e+00  1.61845870e+00\n",
            "  5.15419721e-01 -1.60486128e+00  8.68049822e-01  1.07707116e+00\n",
            " -3.91579555e-02  2.66267167e-01  4.63406698e-01 -1.42965510e+00\n",
            "  1.19935101e+00 -2.67372912e-01  1.32440887e+00 -2.31645002e+00\n",
            " -5.75954611e-01 -2.23687691e-01 -1.39501287e+00  1.33886433e+00\n",
            " -3.50262409e-02  3.91176979e-01 -6.89956475e-01 -1.57757557e-01\n",
            "  1.75669791e+00  1.06264461e+00 -8.78779980e-01 -1.20072125e+00\n",
            " -3.98993586e-01 -9.45660351e-02 -5.72492075e-01  7.38350567e-01\n",
            "  1.26906244e+00  1.03346427e+00 -1.44781261e+00  1.19526257e+00\n",
            "  2.14789283e+00  7.98516870e-01  1.70321306e+00 -2.09185110e+00\n",
            "  1.29768805e+00 -1.98461060e-01 -2.94234996e-01 -1.71620260e+00\n",
            "  9.60530048e-01  1.32092329e+00  1.84307086e+00 -6.34464684e-01\n",
            "  4.90929105e-01 -2.04254465e-01 -8.47977550e-01 -7.65435795e-01\n",
            "  6.62976748e-01  1.31156118e+00  2.76041345e+00 -5.13730731e-01\n",
            " -1.82729772e+00 -3.62890216e-01 -1.21827716e+00 -1.50112162e+00\n",
            "  8.36608617e-01  1.45591773e-01  4.78029149e-01 -1.48873769e+00\n",
            " -1.45544662e-01  9.47002089e-01  1.14057417e-02 -5.36785281e-01\n",
            "  1.14976162e+00  3.31933258e-02 -1.03033546e+00  1.19100296e+00\n",
            "  2.82371436e-01 -1.86757529e+00 -4.73382960e-01  2.14475324e-01\n",
            " -3.82841796e-01 -8.75973620e-01 -9.88515180e-01 -7.48317828e-01\n",
            " -2.95353336e-01 -4.63515614e-01  2.75881999e-01  1.12187801e-01\n",
            "  7.72488154e-01  1.71351693e+00  1.86289523e-01  1.34891673e+00\n",
            "  4.02247420e-01 -8.51809289e-01 -8.52703950e-01  4.85910646e-02\n",
            "  3.93208535e-01 -3.84429459e-01  7.95138326e-01 -1.79643085e+00\n",
            "  3.91609641e-01  1.32206022e+00  4.07542652e-01  6.94987205e-01\n",
            "  3.57473969e-01  1.09651363e+00  6.36440609e-01 -2.45197647e-01\n",
            "  5.88059204e-01  5.40553107e-01  1.85800471e+00  1.46406144e+00\n",
            " -6.06242376e-02  8.07569008e-01 -8.95627041e-01 -2.45637826e-01\n",
            " -8.13863739e-02 -2.75664602e-01  1.60222989e-01  8.39379179e-01\n",
            "  1.37441270e+00 -5.51769301e-01  1.86609498e+00  1.11568901e+00\n",
            "  7.22235587e-02  2.91584555e-02  9.79778871e-01 -3.17966853e-01\n",
            " -1.78624586e+00 -8.60274281e-01 -8.44870040e-02  1.06752076e+00\n",
            "  3.95303093e-01  1.07028733e-02  5.50143039e-01  3.66828361e-01\n",
            " -1.24781144e-01  1.71178839e+00  4.85042578e-01  1.61942034e+00\n",
            " -8.71910396e-02  7.75153958e-01 -9.35378132e-01 -1.49302031e+00\n",
            " -1.61679091e-01 -1.14694983e+00 -1.65513924e+00 -1.00649332e-01\n",
            "  1.84324769e+00 -1.54286161e+00 -3.38428493e-01 -1.40463840e-01\n",
            "  1.06953062e+00 -2.29854831e+00 -3.81458787e-03  1.23304857e+00\n",
            " -6.66521244e-01 -1.27935735e+00 -5.93306551e-01  4.70661084e-02\n",
            " -1.97414111e-01  4.55012062e-01  7.88585406e-01  5.01254529e-01\n",
            " -8.70199926e-01  2.82941169e-02 -1.05941530e+00  6.19609129e-01\n",
            " -6.73028113e-01  1.79533891e+00 -6.77787195e-02  9.06038366e-01\n",
            " -4.54731905e-01 -7.20330162e-01 -1.40382618e+00 -8.44647078e-01\n",
            "  6.15960569e-01 -1.74361374e+00 -2.23388522e+00  1.88626582e+00\n",
            " -1.95602476e-01  6.34038533e-01  1.64972194e+00 -2.60701908e-02\n",
            "  8.73888481e-01  8.52019644e-01 -7.66032627e-01  1.33213105e+00\n",
            "  8.91749990e-01  1.15353495e+00 -1.10704435e+00  6.18952468e-01\n",
            " -1.17914482e-01  1.54622021e+00  2.10363862e+00  1.48491450e+00\n",
            "  3.66682615e-01 -8.88532005e-03  1.50335322e+00 -1.17907948e+00\n",
            "  2.55828622e-01 -1.84909612e+00  5.69278773e-01 -2.86140701e-01\n",
            "  2.42382946e-01 -7.30495053e-01 -2.93942875e-01  1.40345727e+00\n",
            " -1.59033561e-01 -8.08044281e-01  8.94781652e-01  3.55058273e-01\n",
            " -3.94430097e-01 -3.17384343e-01  2.33571958e-02  7.43103488e-01\n",
            "  5.09961179e-02  7.46202702e-01 -1.72022181e-01 -1.58862353e+00\n",
            "  5.57775578e-01  3.07623058e-01  2.63709476e-01 -6.98129466e-01\n",
            "  7.72118185e-01 -1.34459248e+00 -9.80297217e-01  1.26724168e-01\n",
            " -1.47923446e+00 -9.08245272e-02  2.11528595e-01 -6.30830822e-01\n",
            " -1.63220017e+00 -2.89748585e-01 -3.43566826e-01 -4.76400681e-01\n",
            "  9.46653671e-01 -1.83687375e+00  3.65874771e-01 -3.57119753e-01\n",
            "  2.83791975e-01  6.96884766e-03  2.19096618e-01  1.10900832e+00\n",
            "  4.53890062e-01  3.92863891e-01  5.52341139e-01  4.69907705e-01\n",
            "  1.12318814e+00 -2.87186671e+00 -1.00755185e+00 -1.09671931e-01\n",
            " -1.89063606e+00 -6.39704731e-01 -1.96110809e+00 -1.06782758e+00\n",
            "  7.92586350e-01  3.94200683e-01  6.16943473e-01  7.91848730e-01\n",
            " -1.45846798e+00  1.11818239e+00  3.12674138e-01  2.22277623e+00\n",
            " -5.90909575e-01  1.19118587e+00  8.49946773e-01  3.74299206e-01\n",
            "  3.31907764e-01  4.43972980e-01 -3.37101894e-01  4.02126415e-01\n",
            " -8.42459139e-01  4.44284047e-01 -3.60587611e-02  4.19321376e-01\n",
            " -1.00190953e-01  1.00021704e+00  1.21411263e+00 -1.74850970e+00\n",
            "  1.10401296e+00 -3.87857559e+00 -7.84966603e-01  3.68458257e-01\n",
            "  6.57835751e-01 -6.83830768e-01  1.06718473e+00  1.46099828e+00\n",
            "  1.75949551e-01 -2.77230996e-01  1.57085856e+00 -1.00528802e+00\n",
            " -1.07595159e+00  8.84199483e-02 -1.55067910e-01 -1.02107595e+00\n",
            "  7.03415446e-01  6.10997130e-01  9.33479358e-02 -2.92216036e-01\n",
            "  3.42675673e-01  4.10394480e-01  3.86695903e-01  2.69012677e-01\n",
            "  1.07360109e+00  1.43848001e+00 -1.36659982e-01  1.37903299e+00\n",
            "  1.67302553e+00  2.21404924e+00  1.96238528e-01 -1.68673815e-01\n",
            "  1.08732660e+00  6.66819511e-01  3.70364888e-02 -1.35313815e+00\n",
            "  2.19446765e-02  1.61213332e-01 -3.25078656e-01  1.59483756e+00\n",
            " -9.23145293e-01  9.01252763e-02  1.19239890e+00 -6.19531378e-02\n",
            " -3.88063181e-01 -1.46041975e+00 -5.91448891e-01  1.77372082e+00\n",
            "  2.02134768e-01  1.50841334e+00 -3.45156658e-01  2.05259509e+00\n",
            "  6.99981656e-01 -1.59484277e+00 -4.20713049e-01  4.48761198e-01\n",
            " -1.32794654e+00  8.91337543e-01 -2.58757293e-02 -2.04183465e+00\n",
            " -7.27982738e-02 -6.74653349e-02  7.90577779e-01  1.90219884e-02\n",
            " -3.50089684e-01 -8.56674124e-01 -6.94409020e-01 -1.45914065e-01\n",
            "  4.05798907e-01 -1.17176315e+00 -2.49506237e-01  5.58394076e-01\n",
            "  1.58316850e+00  3.05355385e-01  1.56337276e+00 -6.49453889e-01\n",
            "  5.53882644e-01 -3.45033410e-01 -2.66926841e+00  2.32440402e+00\n",
            "  1.35498392e-01 -1.30813786e+00  4.31562769e-02 -1.11858386e+00\n",
            " -1.35927895e-01  1.10343814e-01 -5.85685978e-01 -4.34065188e-01\n",
            "  9.46161944e-01 -1.34825027e+00  9.77869764e-01  1.66548822e+00\n",
            "  2.19923594e+00  3.73923907e-01 -9.01131125e-02  1.05867602e+00\n",
            "  1.49578624e-01  6.83792173e-01  6.58922426e-02 -2.84763352e-01\n",
            " -1.00895196e+00 -7.54182851e-01 -8.66289885e-02 -5.67318617e-01\n",
            "  5.98078890e-01  1.68428969e+00  2.18142159e+00 -1.68382053e+00\n",
            " -3.58630638e-01 -3.83273247e-01 -4.31282107e-01  2.66987807e-01\n",
            "  9.90551615e-02  5.08571527e-02 -4.74519899e-01  1.71894283e+00\n",
            " -4.21152944e-01  1.27871950e-01 -1.24283437e+00  2.19855481e+00\n",
            "  8.70051888e-01 -3.41488258e-01  8.39922426e-01 -2.96256779e-01\n",
            " -6.31637241e-03 -4.73712333e-01  1.90036029e+00  3.56419615e-01\n",
            "  3.95637167e-01  1.79517648e-01  2.56571721e+00  2.59485299e+00\n",
            " -7.52542861e-01 -1.73372883e-01 -9.76856864e-01  4.52503161e-01\n",
            "  6.15631639e-02 -1.48260051e+00  3.89180199e-01 -6.91434516e-02\n",
            "  1.04299468e+00 -1.37231254e+00 -6.02866328e-01  2.32317315e+00\n",
            "  7.52306939e-01  2.38902412e-01  5.68758168e-01 -1.01305611e+00\n",
            "  1.65416796e-01  4.10668887e-01  5.67813848e-01  1.55891397e+00\n",
            " -1.28317724e+00  1.00000732e+00 -3.29574431e-01 -4.18216965e-01\n",
            "  9.39854479e-01 -1.02157887e+00 -1.00531872e+00 -4.02354737e-02\n",
            "  7.37025240e-01  7.47777936e-01 -1.63676776e+00  2.03526295e-01\n",
            " -1.24640308e+00  1.32501923e+00  1.56827496e+00 -1.81991487e+00\n",
            "  2.82212867e-01 -3.46701740e-01 -1.59601272e+00 -1.69351855e+00\n",
            " -1.51468225e-01 -1.09419970e-02 -3.06820315e-03 -1.50047666e+00\n",
            " -9.97222509e-01 -2.74406547e-02  1.04431090e+00  8.72594446e-01\n",
            " -1.53289541e+00  1.90711028e+00 -5.75877366e-01  8.48766059e-01\n",
            "  1.05868434e+00 -8.80731658e-01 -8.08918548e-01  3.23961096e-01\n",
            " -1.30759489e+00  1.07108958e-01  2.34132426e-02  1.78419427e+00\n",
            "  5.73941394e-01  2.23260538e+00 -9.58941800e-02 -1.63217265e+00\n",
            " -9.12503404e-01  1.10340111e-01 -1.02719054e+00 -6.23325203e-01\n",
            "  1.25358947e+00 -5.60906956e-01  1.23035823e+00  3.03632240e-02\n",
            " -1.21653977e+00 -1.82200367e-01 -1.39524078e+00  1.16213852e+00\n",
            "  8.69253604e-01  1.54101312e+00 -1.31131255e+00 -7.89278033e-01\n",
            "  5.30820584e-01 -4.52819650e-01 -2.35587833e+00  7.28456458e-01\n",
            " -1.34121722e+00 -2.46194526e-01  5.73221154e-01  1.14142653e-01\n",
            " -4.68984813e-01  1.40985257e+00 -4.25675960e-01 -9.01822981e-01\n",
            " -1.82062648e-01 -9.15024914e-02  1.38782716e+00  3.47257795e-03\n",
            "  8.02806156e-01 -3.67081901e-01 -7.49870870e-01  1.22673624e+00\n",
            "  1.55442079e+00 -1.13337197e+00  1.00994947e+00  2.56912839e-01\n",
            "  1.94328871e-01  5.49721261e-01  1.81132144e+00  1.27197434e+00\n",
            "  2.44977579e+00  9.42791531e-01  1.70169499e+00  1.73995242e+00\n",
            " -1.66920096e+00  1.35523868e+00  1.89709310e-01 -1.05748134e+00\n",
            " -3.26630778e-01  1.62496186e-01  4.00066824e-01 -1.67945953e+00\n",
            "  2.90093758e+00 -1.28076322e-01 -7.82688441e-01 -6.36923741e-01\n",
            " -1.17043919e+00 -3.06561858e-01  3.63300712e-01 -2.30839534e+00\n",
            "  4.00764629e-01  9.49027505e-02 -1.23583417e-01  2.15746534e+00\n",
            " -5.50506695e-01  2.76313598e-01 -7.07081644e-01 -1.04319294e+00\n",
            "  2.76770733e-01 -1.07147538e+00 -5.27419727e-01 -8.77102627e-02\n",
            "  1.26168269e+00  1.64613211e-01  1.18762903e+00  1.18273720e+00\n",
            "  6.48296504e-01  5.08452232e-01  3.58276901e-01 -1.89298010e+00\n",
            " -4.82922764e-01  1.53165104e-01  1.66295909e+00 -4.80442447e-01\n",
            "  8.57277147e-01  8.69529268e-01 -9.26352485e-01  1.68954867e+00\n",
            " -2.52309775e-01 -2.23373491e-01 -3.46969220e-01 -6.95930976e-01\n",
            " -1.05197702e+00 -1.57615163e-01  4.27657539e-01 -1.49414755e+00\n",
            "  6.69998249e-01  6.73637095e-01 -1.73846419e+00 -8.55843590e-01\n",
            "  5.19982600e-01  9.55008782e-01  7.61853208e-01  4.97776401e-01\n",
            "  9.05499212e-01 -8.63017287e-03 -3.58259941e-01  3.26213396e-01\n",
            "  1.48094248e+00 -1.04846193e+00  4.57164141e-02 -5.19801920e-01\n",
            "  7.45656809e-01 -1.47551173e-01  5.73030428e-01 -1.60238897e-01\n",
            "  2.01856832e-01  9.35367029e-01  1.24145274e+00  1.69204104e-02\n",
            " -1.42815234e+00 -1.70195744e-01  1.99031955e+00 -2.17917796e-01\n",
            "  8.61336664e-01  1.98182235e+00 -2.09195601e-01 -9.45881107e-01\n",
            " -9.37032499e-01  7.48376661e-01  4.09605536e-01 -8.48239937e-01\n",
            "  7.71281972e-01 -1.88675607e+00  1.07940936e+00  1.25529547e+00\n",
            " -3.53979919e-01 -1.16164980e+00  6.17722443e-01  1.08595862e+00\n",
            " -2.65944888e-01  9.00204578e-01 -2.72118413e-01 -2.21429973e-01\n",
            " -6.36409691e-01 -2.25196658e+00  6.09826331e-01 -1.04820495e+00\n",
            "  2.74808566e-01 -3.43423664e-01  4.75214673e-01 -1.30491912e+00\n",
            "  6.20977948e-01  1.45141615e+00  1.28275445e+00 -1.11913474e+00\n",
            "  7.74438395e-01 -1.82482995e-01  1.13201160e-01 -9.75835676e-01\n",
            " -1.37208253e+00 -2.95299789e-01 -1.09015518e-01 -3.19798376e-01\n",
            " -8.60987001e-01 -2.94012940e-01 -5.59072541e-01 -5.53192163e-01\n",
            "  1.20703997e+00 -1.54406198e+00  5.06362739e-01  3.27184345e-01\n",
            "  5.37524595e-01  6.25915814e-02 -4.29305778e-01 -4.91183048e-01\n",
            " -3.80553018e-01 -6.41905958e-01  1.23620163e-01  5.70270178e-01\n",
            " -5.05675593e-02 -1.38813161e+00 -9.86287047e-01  4.52788624e-01\n",
            " -7.07778333e-01  5.89952710e-01 -8.24176927e-01  2.03938790e-01\n",
            " -1.10133697e+00  1.09838093e+00 -4.58046040e-02 -1.90773773e+00\n",
            "  1.60174976e-01 -1.29991299e-01 -3.05958574e-01  2.81329319e-01\n",
            "  8.09419332e-02  9.74247912e-01  5.77256064e-01 -8.16215123e-01\n",
            "  1.84630002e+00 -7.61290590e-01  2.47546786e+00  9.69123325e-01\n",
            "  1.19543417e+00]\n"
          ],
          "name": "stdout"
        }
      ]
    },
    {
      "cell_type": "code",
      "metadata": {
        "id": "HwW4fvctgg6r"
      },
      "source": [
        "iteration=np.array(range(1,11))"
      ],
      "execution_count": 21,
      "outputs": []
    },
    {
      "cell_type": "code",
      "metadata": {
        "colab": {
          "base_uri": "https://localhost:8080/",
          "height": 295
        },
        "id": "QFM7-qN7gkVE",
        "outputId": "c8807ddd-2fec-4c1d-94e8-39bcffee42c1"
      },
      "source": [
        "plt.plot(iteration,cost)\n",
        "plt.title(\"Mean Square Error v/s Iterations\")\n",
        "plt.xlabel(\"Iterations\")\n",
        "plt.ylabel(\"Cost\")\n",
        "plt.show()"
      ],
      "execution_count": 30,
      "outputs": [
        {
          "output_type": "display_data",
          "data": {
            "image/png": "[encoded data removed]",
            "text/plain": [
              "<Figure size 432x288 with 1 Axes>"
            ]
          },
          "metadata": {
            "tags": [],
            "needs_background": "light"
          }
        }
      ]
    },
    {
      "cell_type": "code",
      "metadata": {
        "id": "hoLpuz-AKC2-"
      },
      "source": [
        ""
      ],
      "execution_count": null,
      "outputs": []
    }
  ]
}