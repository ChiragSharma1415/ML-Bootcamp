{
  "nbformat": 4,
  "nbformat_minor": 0,
  "metadata": {
    "colab": {
      "name": "Logistic Regression new.ipynb",
      "provenance": [],
      "collapsed_sections": []
    },
    "kernelspec": {
      "name": "python3",
      "display_name": "Python 3"
    },
    "language_info": {
      "name": "python"
    }
  },
  "cells": [
    {
      "cell_type": "code",
      "metadata": {
        "id": "AAxBsT9E3XtL"
      },
      "source": [
        "import numpy as np\n",
        "from numpy import genfromtxt\n",
        "import matplotlib.pyplot as plt  # To visualize\n",
        "import pandas as pd  # To read data"
      ],
      "execution_count": 1,
      "outputs": []
    },
    {
      "cell_type": "code",
      "metadata": {
        "id": "gOuPY-tV3b40"
      },
      "source": [
        "data=pd.read_csv('/content/sample_data/mnist_train_small.csv')"
      ],
      "execution_count": 2,
      "outputs": []
    },
    {
      "cell_type": "code",
      "metadata": {
        "colab": {
          "base_uri": "https://localhost:8080/"
        },
        "id": "Foc2vD0H3dFR",
        "outputId": "da07691f-7817-4470-81da-a42046f626cf"
      },
      "source": [
        "print(data)"
      ],
      "execution_count": 3,
      "outputs": [
        {
          "output_type": "stream",
          "text": [
            "       6  0  0.1  0.2  0.3  0.4  ...  0.585  0.586  0.587  0.588  0.589  0.590\n",
            "0      5  0    0    0    0    0  ...      0      0      0      0      0      0\n",
            "1      7  0    0    0    0    0  ...      0      0      0      0      0      0\n",
            "2      9  0    0    0    0    0  ...      0      0      0      0      0      0\n",
            "3      5  0    0    0    0    0  ...      0      0      0      0      0      0\n",
            "4      2  0    0    0    0    0  ...      0      0      0      0      0      0\n",
            "...   .. ..  ...  ...  ...  ...  ...    ...    ...    ...    ...    ...    ...\n",
            "19994  0  0    0    0    0    0  ...      0      0      0      0      0      0\n",
            "19995  1  0    0    0    0    0  ...      0      0      0      0      0      0\n",
            "19996  2  0    0    0    0    0  ...      0      0      0      0      0      0\n",
            "19997  9  0    0    0    0    0  ...      0      0      0      0      0      0\n",
            "19998  5  0    0    0    0    0  ...      0      0      0      0      0      0\n",
            "\n",
            "[19999 rows x 785 columns]\n"
          ],
          "name": "stdout"
        }
      ]
    },
    {
      "cell_type": "code",
      "metadata": {
        "id": "PqWKBy5v3gJ4"
      },
      "source": [
        "y=data.iloc[:,:1].values"
      ],
      "execution_count": 4,
      "outputs": []
    },
    {
      "cell_type": "code",
      "metadata": {
        "id": "NxfkoUZn3i26"
      },
      "source": [
        "X=data.iloc[:,1:].values"
      ],
      "execution_count": 5,
      "outputs": []
    },
    {
      "cell_type": "code",
      "metadata": {
        "id": "s2-hYJ4D3nZp"
      },
      "source": [
        "m=X.shape[0] #rows\n",
        "n=X.shape[1] #columns"
      ],
      "execution_count": 16,
      "outputs": []
    },
    {
      "cell_type": "code",
      "metadata": {
        "id": "p89Fz-8z3oTS"
      },
      "source": [
        "ones=np.ones((m,1))"
      ],
      "execution_count": 7,
      "outputs": []
    },
    {
      "cell_type": "code",
      "metadata": {
        "id": "ZLEPrHer3wuZ"
      },
      "source": [
        "X=np.concatenate((ones,X),axis=1)"
      ],
      "execution_count": 8,
      "outputs": []
    },
    {
      "cell_type": "code",
      "metadata": {
        "colab": {
          "base_uri": "https://localhost:8080/"
        },
        "id": "AFt-JzD0qmko",
        "outputId": "ddf0f286-678b-46cd-bfc6-29190741264e"
      },
      "source": [
        "for i in range(0,n):\n",
        "  X[:,i]=(X[:,i]-np.mean(X[:,i]))/np.std(X[:,i])\n",
        "\n",
        "  #it is showing runtime error/warning so did not run it"
      ],
      "execution_count": 9,
      "outputs": [
        {
          "output_type": "stream",
          "text": [
            "/usr/local/lib/python3.7/dist-packages/ipykernel_launcher.py:2: RuntimeWarning: invalid value encountered in true_divide\n",
            "  \n"
          ],
          "name": "stderr"
        }
      ]
    },
    {
      "cell_type": "code",
      "metadata": {
        "id": "Zif0S2JC3xxV"
      },
      "source": [
        "def costfn_and_grad_descent(X,y,alpha,max_iter):  #alpha is learning rate\n",
        "   cost=np.random.randn(max_iter)\n",
        "   Theta=np.zeros(n+1) #initial weight vector, (somehow taking random array is giving runtime error)\n",
        "   h=np.dot(X, Theta) #hypothesis\n",
        "   sgm= 1/(1+np.exp(-h)) #sigmoid function\n",
        "   for i in range(0,max_iter):\n",
        "      for j in range(0,n):\n",
        "        Theta[j]=Theta[j]-(alpha/m)*(np.dot(sum(sgm-y),X[:,j]))\n",
        "      h=np.dot(X,Theta)\n",
        "      cost[i]= -(1/m)*(np.sum((y*(np.log(sgm)))+(1-y)*(np.log(1-sgm))))\n",
        "   return cost, Theta"
      ],
      "execution_count": 9,
      "outputs": []
    },
    {
      "cell_type": "code",
      "metadata": {
        "id": "Zq1VSxoX-6Rj"
      },
      "source": [
        "cost, Theta=costfn_and_grad_descent(X,y,0.0000001,10)"
      ],
      "execution_count": 11,
      "outputs": []
    },
    {
      "cell_type": "code",
      "metadata": {
        "colab": {
          "base_uri": "https://localhost:8080/"
        },
        "id": "cm6Kkw8kvGll",
        "outputId": "78a6f3a9-65de-4d7e-d4aa-d892028e1b88"
      },
      "source": [
        "print(cost)"
      ],
      "execution_count": 12,
      "outputs": [
        {
          "output_type": "stream",
          "text": [
            "[13862.250464 13862.250464 13862.250464 13862.250464 13862.250464\n",
            " 13862.250464 13862.250464 13862.250464 13862.250464 13862.250464]\n"
          ],
          "name": "stdout"
        }
      ]
    },
    {
      "cell_type": "code",
      "metadata": {
        "colab": {
          "base_uri": "https://localhost:8080/"
        },
        "id": "-hIuJAG6vPXC",
        "outputId": "a45b9b56-eeae-4adf-9e1d-722fef863b6d"
      },
      "source": [
        "print(Theta)"
      ],
      "execution_count": 13,
      "outputs": [
        {
          "output_type": "stream",
          "text": [
            "[7.93985000e-02 0.00000000e+00 0.00000000e+00 0.00000000e+00\n",
            " 0.00000000e+00 0.00000000e+00 0.00000000e+00 0.00000000e+00\n",
            " 0.00000000e+00 0.00000000e+00 0.00000000e+00 0.00000000e+00\n",
            " 0.00000000e+00 3.97012351e-05 8.57546677e-04 8.57546677e-04\n",
            " 3.57311116e-05 0.00000000e+00 0.00000000e+00 0.00000000e+00\n",
            " 0.00000000e+00 0.00000000e+00 0.00000000e+00 0.00000000e+00\n",
            " 0.00000000e+00 0.00000000e+00 0.00000000e+00 0.00000000e+00\n",
            " 0.00000000e+00 0.00000000e+00 0.00000000e+00 0.00000000e+00\n",
            " 0.00000000e+00 0.00000000e+00 0.00000000e+00 9.84590630e-04\n",
            " 2.25900028e-03 4.62916401e-03 5.20086179e-03 1.01277851e-02\n",
            " 1.52730651e-02 1.91796667e-02 1.54556908e-02 1.66268772e-02\n",
            " 1.57335995e-02 1.25177994e-02 1.38120597e-02 1.31014076e-02\n",
            " 5.30805513e-03 2.44162596e-03 2.14386669e-04 0.00000000e+00\n",
            " 0.00000000e+00 0.00000000e+00 0.00000000e+00 0.00000000e+00\n",
            " 0.00000000e+00 0.00000000e+00 0.00000000e+00 0.00000000e+00\n",
            " 1.15133582e-04 8.81367418e-04 4.72444697e-04 3.29917263e-03\n",
            " 1.18111174e-02 2.44400803e-02 4.53348403e-02 7.82908355e-02\n",
            " 1.15725130e-01 1.61830174e-01 2.08336201e-01 2.53587669e-01\n",
            " 2.90096925e-01 2.94360837e-01 2.82728375e-01 2.34693851e-01\n",
            " 1.64005802e-01 1.07661809e-01 5.83211143e-02 2.77392529e-02\n",
            " 8.86528579e-03 4.09716746e-03 1.56422866e-03 0.00000000e+00\n",
            " 0.00000000e+00 0.00000000e+00 0.00000000e+00 0.00000000e+00\n",
            " 8.49606430e-04 4.08922721e-04 3.32299337e-03 1.61544325e-02\n",
            " 5.00672275e-02 9.79667676e-02 1.80787514e-01 2.92018464e-01\n",
            " 4.45475648e-01 5.95379572e-01 7.67428844e-01 9.66459075e-01\n",
            " 1.08736919e+00 1.07011503e+00 9.60265683e-01 7.83817514e-01\n",
            " 5.78772545e-01 3.59498654e-01 1.83657913e-01 8.79144149e-02\n",
            " 3.22612236e-02 1.29465728e-02 3.61281239e-03 1.86595805e-04\n",
            " 0.00000000e+00 0.00000000e+00 1.50864693e-04 2.14386669e-04\n",
            " 7.22562478e-04 4.61328351e-03 3.25629530e-02 8.50162248e-02\n",
            " 1.95214943e-01 3.76860004e-01 6.61589321e-01 1.05174130e+00\n",
            " 1.55699113e+00 2.12632272e+00 2.77757781e+00 3.36275416e+00\n",
            " 3.63304811e+00 3.51848623e+00 3.10314779e+00 2.52357725e+00\n",
            " 1.85307103e+00 1.18707884e+00 6.64050798e-01 3.46540170e-01\n",
            " 1.53421453e-01 5.61296061e-02 1.44631599e-02 4.35125536e-03\n",
            " 2.34237287e-04 0.00000000e+00 0.00000000e+00 9.52829641e-04\n",
            " 4.09319733e-03 3.18721515e-02 1.25281217e-01 2.84661826e-01\n",
            " 5.71090356e-01 1.03399485e+00 1.68423755e+00 2.50400454e+00\n",
            " 3.48465283e+00 4.58844642e+00 5.80073554e+00 6.69245307e+00\n",
            " 7.14380451e+00 7.00973344e+00 6.30743447e+00 5.20632865e+00\n",
            " 3.92969971e+00 2.68195738e+00 1.68332840e+00 9.72505574e-01\n",
            " 4.97357222e-01 2.17348381e-01 6.20530304e-02 8.13478306e-03\n",
            " 0.00000000e+00 0.00000000e+00 0.00000000e+00 1.91359953e-03\n",
            " 1.37961792e-02 8.49169717e-02 2.69881056e-01 5.92211413e-01\n",
            " 1.14053708e+00 1.91378613e+00 2.95104044e+00 4.18063533e+00\n",
            " 5.56869374e+00 6.98209741e+00 8.34419120e+00 9.34673076e+00\n",
            " 9.78160220e+00 9.64256054e+00 8.87195957e+00 7.60149622e+00\n",
            " 5.92301138e+00 4.24715475e+00 2.78554188e+00 1.66118702e+00\n",
            " 8.92880777e-01 4.17688754e-01 1.41975587e-01 2.33443262e-02\n",
            " 1.97315138e-03 1.86595805e-04 1.77067508e-03 6.67774774e-03\n",
            " 4.13805973e-02 1.82399384e-01 4.78689702e-01 9.92157685e-01\n",
            " 1.78034233e+00 2.89011890e+00 4.27797879e+00 5.83797927e+00\n",
            " 7.41546418e+00 8.76506002e+00 9.92697225e+00 1.05875174e+01\n",
            " 1.07715962e+01 1.06234312e+01 1.00691900e+01 8.96154540e+00\n",
            " 7.38601380e+00 5.46425567e+00 3.68460810e+00 2.25013102e+00\n",
            " 1.22972591e+00 5.60089144e-01 2.03750708e-01 4.06381842e-02\n",
            " 3.60884227e-03 7.58293590e-04 3.26741165e-03 2.37492788e-02\n",
            " 1.08952099e-01 3.03242004e-01 6.80649884e-01 1.35228759e+00\n",
            " 2.38361054e+00 3.75920275e+00 5.42593206e+00 7.15676696e+00\n",
            " 8.56533502e+00 9.46523894e+00 9.87216866e+00 9.85595071e+00\n",
            " 9.79397708e+00 9.83404357e+00 9.74393367e+00 9.18228824e+00\n",
            " 7.92791184e+00 6.08502815e+00 4.18076635e+00 2.54602035e+00\n",
            " 1.33185733e+00 5.77668851e-01 2.13612495e-01 3.61916459e-02\n",
            " 1.95330077e-03 4.28773339e-04 5.26438377e-03 4.22421141e-02\n",
            " 1.48565992e-01 3.67430960e-01 7.85123684e-01 1.57086274e+00\n",
            " 2.78107946e+00 4.38312751e+00 6.23310979e+00 7.83872301e+00\n",
            " 8.73787659e+00 8.81588951e+00 8.38217734e+00 7.90985175e+00\n",
            " 7.92024950e+00 8.32810426e+00 8.88160697e+00 8.82414340e+00\n",
            " 7.83636079e+00 6.06721817e+00 4.18660640e+00 2.51378692e+00\n",
            " 1.24524909e+00 4.90862100e-01 1.54036822e-01 2.49323756e-02\n",
            " 1.27837977e-03 7.38442972e-04 5.79638032e-03 4.54221830e-02\n",
            " 1.41153771e-01 3.44884629e-01 7.95461886e-01 1.65130141e+00\n",
            " 2.97252278e+00 4.77095697e+00 6.66820753e+00 7.96651732e+00\n",
            " 8.18984471e+00 7.49565273e+00 6.63490613e+00 6.29060908e+00\n",
            " 6.68506865e+00 7.48023277e+00 8.32000918e+00 8.44020864e+00\n",
            " 7.42874027e+00 5.63738084e+00 3.80810674e+00 2.25970696e+00\n",
            " 1.06906692e+00 3.83974465e-01 9.36869745e-02 1.74566331e-02\n",
            " 5.83608155e-04 7.26532602e-04 4.94677389e-03 3.41589426e-02\n",
            " 9.99200684e-02 2.87385330e-01 7.66404552e-01 1.70001483e+00\n",
            " 3.18824738e+00 5.11052163e+00 6.95927317e+00 7.84520623e+00\n",
            " 7.52880326e+00 6.52864975e+00 5.84366846e+00 5.98969754e+00\n",
            " 6.70866706e+00 7.72229517e+00 8.51449759e+00 8.31386343e+00\n",
            " 6.96925803e+00 5.11929958e+00 3.37323926e+00 1.99535231e+00\n",
            " 1.01585535e+00 3.40688208e-01 5.65782301e-02 1.18508187e-02\n",
            " 7.94024701e-05 0.00000000e+00 3.48576844e-03 1.70238896e-02\n",
            " 7.00965006e-02 2.39279344e-01 7.82888505e-01 1.82973861e+00\n",
            " 3.46651334e+00 5.50225769e+00 7.17919022e+00 7.77672160e+00\n",
            " 7.22596621e+00 6.39781036e+00 6.33555485e+00 7.09442411e+00\n",
            " 8.07986038e+00 8.99340962e+00 9.33439955e+00 8.46248897e+00\n",
            " 6.66694106e+00 4.65466411e+00 3.05417631e+00 1.87155989e+00\n",
            " 1.02008750e+00 3.60773063e-01 4.16624761e-02 7.25738577e-03\n",
            " 6.63010626e-04 0.00000000e+00 9.80620506e-04 7.01917836e-03\n",
            " 5.32274458e-02 2.33324158e-01 8.48999001e-01 2.04338287e+00\n",
            " 3.81589612e+00 5.81073629e+00 7.31339627e+00 7.68315769e+00\n",
            " 7.21562007e+00 6.90070987e+00 7.68792978e+00 8.86022785e+00\n",
            " 9.88521052e+00 1.03366731e+01 1.00756018e+01 8.61449309e+00\n",
            " 6.42746321e+00 4.41704031e+00 2.99061860e+00 1.90776345e+00\n",
            " 1.09203011e+00 4.29912764e-01 5.31480434e-02 8.48812406e-03\n",
            " 2.02476299e-04 0.00000000e+00 3.45400745e-04 1.80243607e-03\n",
            " 3.62750185e-02 2.55926072e-01 9.91276318e-01 2.30648295e+00\n",
            " 4.08148547e+00 5.90873084e+00 7.20643717e+00 7.56757946e+00\n",
            " 7.43530685e+00 7.79565114e+00 9.18172845e+00 1.03359823e+01\n",
            " 1.11193591e+01 1.09632142e+01 1.02250174e+01 8.47925877e+00\n",
            " 6.30639429e+00 4.48023674e+00 3.14285696e+00 2.03527191e+00\n",
            " 1.16727983e+00 4.74390058e-01 6.66663139e-02 7.35663886e-03\n",
            " 0.00000000e+00 0.00000000e+00 0.00000000e+00 3.08081584e-03\n",
            " 4.18490719e-02 2.90426445e-01 1.17041623e+00 2.52298570e+00\n",
            " 4.10557618e+00 5.69703592e+00 6.82458673e+00 7.23335858e+00\n",
            " 7.45627705e+00 8.35697897e+00 9.79376666e+00 1.07662643e+01\n",
            " 1.11019184e+01 1.05305859e+01 9.67515128e+00 8.05746491e+00\n",
            " 6.22198947e+00 4.64994363e+00 3.30461170e+00 2.15785344e+00\n",
            " 1.19157302e+00 4.74239193e-01 8.60166959e-02 1.33912266e-02\n",
            " 3.61281239e-04 0.00000000e+00 3.93042227e-04 9.52035617e-03\n",
            " 5.96312551e-02 3.61368582e-01 1.34495874e+00 2.64206558e+00\n",
            " 3.98674244e+00 5.27648868e+00 6.17179520e+00 6.59768226e+00\n",
            " 7.05631489e+00 8.03354094e+00 9.22436758e+00 1.00791630e+01\n",
            " 1.01992513e+01 9.67773186e+00 8.86852541e+00 7.57412619e+00\n",
            " 6.14982453e+00 4.73483282e+00 3.33715878e+00 2.13451308e+00\n",
            " 1.13923885e+00 4.52486886e-01 9.35559604e-02 1.42090720e-02\n",
            " 8.65486924e-04 0.00000000e+00 4.40683709e-04 1.23272335e-02\n",
            " 8.87402006e-02 4.82020635e-01 1.49878912e+00 2.69548359e+00\n",
            " 3.83365448e+00 4.79789426e+00 5.50180112e+00 5.93245233e+00\n",
            " 6.39000510e+00 7.11294474e+00 8.14136553e+00 9.01955288e+00\n",
            " 9.25183686e+00 9.00572891e+00 8.33615170e+00 7.33159929e+00\n",
            " 6.08415075e+00 4.71084930e+00 3.22896497e+00 1.96950284e+00\n",
            " 1.01116267e+00 4.09490449e-01 1.04902573e-01 1.56422866e-02\n",
            " 8.77397295e-04 2.38207410e-04 1.54834817e-04 1.71985750e-02\n",
            " 1.36397563e-01 6.06090965e-01 1.64209072e+00 2.77838374e+00\n",
            " 3.82098979e+00 4.63070442e+00 5.24296495e+00 5.66812945e+00\n",
            " 6.02960522e+00 6.60305383e+00 7.61127464e+00 8.53020340e+00\n",
            " 8.97855738e+00 8.90954473e+00 8.35915062e+00 7.41399523e+00\n",
            " 6.05817423e+00 4.51063597e+00 3.00601871e+00 1.79335243e+00\n",
            " 9.01563437e-01 3.67172902e-01 1.03818730e-01 1.57891812e-02\n",
            " 1.22279804e-03 0.00000000e+00 9.88560753e-04 2.65799769e-02\n",
            " 1.79755282e-01 6.86335101e-01 1.73020364e+00 2.90982659e+00\n",
            " 4.02767045e+00 4.92149611e+00 5.63508611e+00 6.13234408e+00\n",
            " 6.50791379e+00 7.18881777e+00 8.15558651e+00 9.04890797e+00\n",
            " 9.45557963e+00 9.24061333e+00 8.48938656e+00 7.25915247e+00\n",
            " 5.68112366e+00 4.03912028e+00 2.59148224e+00 1.49067815e+00\n",
            " 7.30324070e-01 2.91740556e-01 9.05545471e-02 1.60551795e-02\n",
            " 4.80384944e-04 0.00000000e+00 1.40542372e-03 3.37817809e-02\n",
            " 2.03492650e-01 6.90202001e-01 1.67412168e+00 2.93006231e+00\n",
            " 4.23863487e+00 5.42890966e+00 6.41037183e+00 7.13804386e+00\n",
            " 7.78016369e+00 8.53689305e+00 9.42098795e+00 1.00231326e+01\n",
            " 1.00689081e+01 9.38763494e+00 8.15831002e+00 6.55148987e+00\n",
            " 4.84671487e+00 3.24401174e+00 1.96752969e+00 1.08288295e+00\n",
            " 5.14373172e-01 2.14049209e-01 6.50306230e-02 1.15451192e-02\n",
            " 0.00000000e+00 0.00000000e+00 7.06681984e-04 2.45909450e-02\n",
            " 1.57601993e-01 5.53530500e-01 1.37176898e+00 2.60049045e+00\n",
            " 4.03168027e+00 5.52565363e+00 6.85908710e+00 7.97264322e+00\n",
            " 8.93525128e+00 9.77564305e+00 1.04231662e+01 1.05341431e+01\n",
            " 9.93706827e+00 8.63726969e+00 6.99963741e+00 5.22476591e+00\n",
            " 3.60772666e+00 2.24313566e+00 1.24560243e+00 6.47924156e-01\n",
            " 3.12154931e-01 1.40081838e-01 3.39207352e-02 5.36363686e-03\n",
            " 0.00000000e+00 0.00000000e+00 1.58804940e-05 1.27957081e-02\n",
            " 8.40673652e-02 3.28761957e-01 8.81546074e-01 1.85989964e+00\n",
            " 3.18866028e+00 4.76325493e+00 6.33073115e+00 7.78674219e+00\n",
            " 8.93707753e+00 9.70524879e+00 9.93632983e+00 9.53818202e+00\n",
            " 8.46520850e+00 6.88930768e+00 5.19821372e+00 3.57151120e+00\n",
            " 2.27516265e+00 1.31794205e+00 6.99186391e-01 3.53726094e-01\n",
            " 1.72374822e-01 7.12240157e-02 1.64244009e-02 2.06843435e-03\n",
            " 0.00000000e+00 0.00000000e+00 0.00000000e+00 6.07825909e-03\n",
            " 2.79059981e-02 1.31962935e-01 3.86396240e-01 9.58479127e-01\n",
            " 1.87562133e+00 3.12015976e+00 4.57562292e+00 6.01885016e+00\n",
            " 7.20390424e+00 7.82700321e+00 7.80389312e+00 7.15351543e+00\n",
            " 5.98937993e+00 4.57025135e+00 3.19262643e+00 2.01509177e+00\n",
            " 1.20593296e+00 6.60342703e-01 3.34343951e-01 1.70441372e-01\n",
            " 8.39403213e-02 3.13758861e-02 4.09716746e-03 4.80384944e-04\n",
            " 0.00000000e+00 0.00000000e+00 0.00000000e+00 2.82672794e-03\n",
            " 8.54767591e-03 4.25200228e-02 1.20441637e-01 3.33942969e-01\n",
            " 7.24237870e-01 1.32193202e+00 2.12704528e+00 2.99629191e+00\n",
            " 3.68474309e+00 4.05806571e+00 4.02017882e+00 3.61751699e+00\n",
            " 2.94693931e+00 2.21376469e+00 1.54852285e+00 9.74061862e-01\n",
            " 5.74568184e-01 3.05238976e-01 1.41479321e-01 6.82146621e-02\n",
            " 3.10265152e-02 8.77794307e-03 1.84610743e-03 7.14622231e-05\n",
            " 0.00000000e+00 0.00000000e+00 0.00000000e+00 3.73191610e-04\n",
            " 1.19897730e-03 1.08384372e-02 3.92168800e-02 1.18206457e-01\n",
            " 2.71076063e-01 5.02446921e-01 7.84226436e-01 1.10572704e+00\n",
            " 1.34321586e+00 1.48141983e+00 1.45549889e+00 1.27706566e+00\n",
            " 1.05212243e+00 8.65748952e-01 6.49897308e-01 4.29043307e-01\n",
            " 2.50764911e-01 1.29640413e-01 6.11200514e-02 2.87714850e-02\n",
            " 1.35698821e-02 3.33887387e-03 0.00000000e+00 0.00000000e+00\n",
            " 0.00000000e+00 0.00000000e+00 0.00000000e+00 0.00000000e+00\n",
            " 1.50864693e-04 2.98553288e-03 1.25733811e-02 4.34212408e-02\n",
            " 9.46596548e-02 1.82657442e-01 2.78265957e-01 3.81115976e-01\n",
            " 4.84581365e-01 5.36149299e-01 5.07854229e-01 4.33394562e-01\n",
            " 3.62214218e-01 2.94888864e-01 2.08598229e-01 1.36445205e-01\n",
            " 8.09944896e-02 4.39254465e-02 1.96441711e-02 7.76159145e-03\n",
            " 1.64760126e-03 1.11163458e-04 0.00000000e+00 0.00000000e+00\n",
            " 0.00000000e+00 0.00000000e+00 0.00000000e+00 0.00000000e+00\n",
            " 0.00000000e+00 2.77908645e-05 8.45636307e-04 2.86245905e-03\n",
            " 7.01123811e-03 8.91689739e-03 1.25852915e-02 2.19865440e-02\n",
            " 3.22413730e-02 4.34172707e-02 4.54221830e-02 5.52799997e-02\n",
            " 5.33306691e-02 4.33458084e-02 2.90851248e-02 1.70715311e-02\n",
            " 6.96359663e-03 2.89819016e-03 1.08384372e-03 2.58852053e-03\n",
            " 4.76414821e-04 0.00000000e+00 0.00000000e+00 0.00000000e+00\n",
            " 0.00000000e+00]\n"
          ],
          "name": "stdout"
        }
      ]
    },
    {
      "cell_type": "code",
      "metadata": {
        "id": "FvICIEWNHHF4"
      },
      "source": [
        "iteration=np.array(range(1,11))"
      ],
      "execution_count": 14,
      "outputs": []
    },
    {
      "cell_type": "code",
      "metadata": {
        "colab": {
          "base_uri": "https://localhost:8080/",
          "height": 295
        },
        "id": "yDTawauqfVTp",
        "outputId": "71ae4743-a6cd-4e78-e756-6e4898d670f7"
      },
      "source": [
        "plt.plot(iteration,cost)\n",
        "plt.title(\"Mean Square Error v/s Iterations\")\n",
        "plt.xlabel(\"Iterations\")\n",
        "plt.ylabel(\"Cost\")\n",
        "plt.show()"
      ],
      "execution_count": 15,
      "outputs": [
        {
          "output_type": "display_data",
          "data": {
            "image/png": "[encoded data removed]",
            "text/plain": [
              "<Figure size 432x288 with 1 Axes>"
            ]
          },
          "metadata": {
            "tags": [],
            "needs_background": "light"
          }
        }
      ]
    },
    {
      "cell_type": "code",
      "metadata": {
        "id": "kTRQc5jggCoH"
      },
      "source": [
        ""
      ],
      "execution_count": null,
      "outputs": []
    }
  ]
}